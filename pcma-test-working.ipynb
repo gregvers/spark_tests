{
 "cells": [
  {
   "cell_type": "markdown",
   "metadata": {},
   "source": [
    "# Statistics on PCMA"
   ]
  },
  {
   "cell_type": "markdown",
   "metadata": {},
   "source": [
    "## Load libraries"
   ]
  },
  {
   "cell_type": "code",
   "execution_count": 1,
   "metadata": {},
   "outputs": [],
   "source": [
    "from pyspark import SparkContext\n",
    "import pyspark.sql.types as typ\n",
    "import re\n",
    "import pandas as pd\n",
    "import numpy as np\n",
    "import matplotlib\n",
    "import matplotlib.pyplot as plt\n",
    "%matplotlib inline\n",
    "sc = SparkContext.getOrCreate()"
   ]
  },
  {
   "cell_type": "markdown",
   "metadata": {},
   "source": [
    "## Load PCMA files into RDD pcmas"
   ]
  },
  {
   "cell_type": "code",
   "execution_count": 6,
   "metadata": {},
   "outputs": [],
   "source": [
    "pcmas = sc.wholeTextFiles(\"/Users/gverstra/Dev/Spark_tests/data/*/*/pcma/rack1.csv\")"
   ]
  },
  {
   "cell_type": "markdown",
   "metadata": {},
   "source": [
    "## Filter data and load it into RDD filteredpcmas"
   ]
  },
  {
   "cell_type": "code",
   "execution_count": 9,
   "metadata": {},
   "outputs": [
    {
     "data": {
      "text/plain": [
       "[('ADVOCARE',\n",
       "  'OCACS-517',\n",
       "  '17.2.3-091117',\n",
       "  'ADVOCARE',\n",
       "  1,\n",
       "  1,\n",
       "  '10Gbps',\n",
       "  4,\n",
       "  '2 Link Aggregation Groups'),\n",
       " ('AIInversionesPaloAltoII',\n",
       "  'OCACS-1057',\n",
       "  '17.2.3-091117',\n",
       "  'AI Inversiones Palo Alto II S.A.C.',\n",
       "  1,\n",
       "  0,\n",
       "  '10Gbps',\n",
       "  8,\n",
       "  '2 Link Aggregation Groups')]"
      ]
     },
     "execution_count": 9,
     "metadata": {},
     "output_type": "execute_result"
    }
   ],
   "source": [
    "def extractInfoFromPCMAcontent(pcma):\n",
    "    # search customerfromfilename and JIRA\n",
    "    x = re.search(r\"file:/Users/gverstra/Dev/Spark_tests/data/(.*)/(.*)/pcma/rack1.csv\", pcma[0])\n",
    "    if x != None:\n",
    "        customerfromfilename = x[1]\n",
    "        jira = x[2]\n",
    "    else:\n",
    "        customerfromfilename = ''\n",
    "        jira = ''\n",
    "    # search Version\n",
    "    x = re.search(r\"Version: ([\\d.\\-]+),\", pcma[1])\n",
    "    if x != None:\n",
    "        pcmaversion = x[1]\n",
    "    else:\n",
    "        pcmaversion = ''\n",
    "    # search Customer Name\n",
    "    x = re.search(r\",Customer Name,,,(.*),,,,,,,Enter Customer Name,,,,,,\", pcma[1])\n",
    "    if x != None:\n",
    "        customername = x[1]\n",
    "    else:\n",
    "        customername = ''\n",
    "    # search Number of OCC racks\n",
    "    x = re.search(r\",,,# of OCM racks including control plane,(\\d+)\", pcma[1])\n",
    "    if x != None:\n",
    "        numoccracks = int(x[1])\n",
    "    else:\n",
    "        numoccracks = \"\"\n",
    "    # search Number of ExaCC racks\n",
    "    x = re.search(r\",,,# of ExaCM racks,(\\d+)\", pcma[1])\n",
    "    if x != None:\n",
    "        numexaccracks = int(x[1])\n",
    "    else:\n",
    "        numexaccracks = \"\"\n",
    "    # search Port type on upstream router\n",
    "    x = re.search(r\",,,Port type on the upstream router\\(s\\),(.*),,,Port type:\", pcma[1])\n",
    "    if x != None:\n",
    "        upstreamporttype = x[1]\n",
    "    else:\n",
    "        upstreamporttype = \"\"\n",
    "    # search Number of ports on the upstream router\n",
    "    x = re.search(r\",,,Number of ports on the upstream router\\(s\\),(\\d+)\", pcma[1])\n",
    "    if x != None:\n",
    "        numupstreamports = int(x[1])\n",
    "    else:\n",
    "        numupstreamports = \"\"\n",
    "    # search Port Channeling type\n",
    "    x = re.search(r\",Upstream router Port Config Type,,,(.*),,,,,,,\\\"If link\", pcma[1])\n",
    "    if x != None:\n",
    "        portchanneling = x[1]\n",
    "    else:\n",
    "        portchanneling = \"\"\n",
    "    return (customerfromfilename, jira, pcmaversion, customername, numoccracks, numexaccracks, upstreamporttype, numupstreamports, portchanneling)\n",
    "\n",
    "filteredpcmas = pcmas.map(extractInfoFromPCMAcontent)\n",
    "filteredpcmas.take(2)"
   ]
  },
  {
   "cell_type": "markdown",
   "metadata": {},
   "source": [
    "## Create a dataframe out of RDD filteredpcmas"
   ]
  },
  {
   "cell_type": "code",
   "execution_count": 5,
   "metadata": {},
   "outputs": [
    {
     "data": {
      "text/plain": [
       "151"
      ]
     },
     "execution_count": 5,
     "metadata": {},
     "output_type": "execute_result"
    }
   ],
   "source": [
    "schema = [\n",
    "    ('customerfromfilename', typ.StringType()),\n",
    "    ('jira', typ.StringType()),\n",
    "    ('pcmaversion', typ.StringType()),\n",
    "    ('customername', typ.StringType()),\n",
    "    ('numoccracks', typ.IntegerType()),\n",
    "    ('numexaccracks', typ.IntegerType()),\n",
    "    ('upstreamporttype', typ.StringType()),\n",
    "    ('numupstreamports', typ.IntegerType()),\n",
    "    ('portchanneling', typ.StringType())\n",
    "]\n",
    "schema = typ.StructType([typ.StructField(e[0],e[1],True) for e in schema])\n",
    "\n",
    "pcmadf = spark.createDataFrame(filteredpcmas, schema)\n",
    "pcmadf.createOrReplaceTempView(\"pcmas\")\n",
    "pcmadf.count()"
   ]
  },
  {
   "cell_type": "markdown",
   "metadata": {},
   "source": [
    "## Count PCMA by version"
   ]
  },
  {
   "cell_type": "code",
   "execution_count": 9,
   "metadata": {},
   "outputs": [
    {
     "data": {
      "text/html": [
       "<div>\n",
       "<style scoped>\n",
       "    .dataframe tbody tr th:only-of-type {\n",
       "        vertical-align: middle;\n",
       "    }\n",
       "\n",
       "    .dataframe tbody tr th {\n",
       "        vertical-align: top;\n",
       "    }\n",
       "\n",
       "    .dataframe thead th {\n",
       "        text-align: right;\n",
       "    }\n",
       "</style>\n",
       "<table border=\"1\" class=\"dataframe\">\n",
       "  <thead>\n",
       "    <tr style=\"text-align: right;\">\n",
       "      <th></th>\n",
       "      <th>pcmaversion</th>\n",
       "      <th>count</th>\n",
       "    </tr>\n",
       "  </thead>\n",
       "  <tbody>\n",
       "    <tr>\n",
       "      <th>0</th>\n",
       "      <td>17.2.3-091117</td>\n",
       "      <td>111</td>\n",
       "    </tr>\n",
       "    <tr>\n",
       "      <th>1</th>\n",
       "      <td>17.2.3-081017</td>\n",
       "      <td>40</td>\n",
       "    </tr>\n",
       "  </tbody>\n",
       "</table>\n",
       "</div>"
      ],
      "text/plain": [
       "     pcmaversion  count\n",
       "0  17.2.3-091117    111\n",
       "1  17.2.3-081017     40"
      ]
     },
     "execution_count": 9,
     "metadata": {},
     "output_type": "execute_result"
    },
    {
     "data": {
      "image/png": "[encoded data removed]",
      "text/plain": [
       "<Figure size 432x288 with 1 Axes>"
      ]
     },
     "metadata": {},
     "output_type": "display_data"
    }
   ],
   "source": [
    "pdf = spark.sql(\"select pcmaversion,count(*) as count from pcmas group by pcmaversion\").toPandas()\n",
    "pdf.plot(kind='bar',x='pcmaversion')\n",
    "pdf"
   ]
  },
  {
   "cell_type": "markdown",
   "metadata": {},
   "source": [
    "## Count PCMA by Upstream port type"
   ]
  },
  {
   "cell_type": "code",
   "execution_count": 6,
   "metadata": {},
   "outputs": [
    {
     "data": {
      "text/html": [
       "<div>\n",
       "<style scoped>\n",
       "    .dataframe tbody tr th:only-of-type {\n",
       "        vertical-align: middle;\n",
       "    }\n",
       "\n",
       "    .dataframe tbody tr th {\n",
       "        vertical-align: top;\n",
       "    }\n",
       "\n",
       "    .dataframe thead th {\n",
       "        text-align: right;\n",
       "    }\n",
       "</style>\n",
       "<table border=\"1\" class=\"dataframe\">\n",
       "  <thead>\n",
       "    <tr style=\"text-align: right;\">\n",
       "      <th></th>\n",
       "      <th>upstreamporttype</th>\n",
       "      <th>count</th>\n",
       "    </tr>\n",
       "  </thead>\n",
       "  <tbody>\n",
       "    <tr>\n",
       "      <th>0</th>\n",
       "      <td>10Gbps</td>\n",
       "      <td>127</td>\n",
       "    </tr>\n",
       "    <tr>\n",
       "      <th>1</th>\n",
       "      <td>40Gbps</td>\n",
       "      <td>24</td>\n",
       "    </tr>\n",
       "  </tbody>\n",
       "</table>\n",
       "</div>"
      ],
      "text/plain": [
       "  upstreamporttype  count\n",
       "0           10Gbps    127\n",
       "1           40Gbps     24"
      ]
     },
     "execution_count": 6,
     "metadata": {},
     "output_type": "execute_result"
    },
    {
     "data": {
      "image/png": "[encoded data removed]",
      "text/plain": [
       "<Figure size 432x288 with 1 Axes>"
      ]
     },
     "metadata": {},
     "output_type": "display_data"
    }
   ],
   "source": [
    "pdf = spark.sql(\"select upstreamporttype, count(*) as count from pcmas group by upstreamporttype\").toPandas()\n",
    "ax1 = plt.subplot(121, aspect='equal')\n",
    "pdf.plot(kind='pie', y = 'count', ax=ax1, autopct='%1.1f%%', startangle=90, shadow=False, labels=pdf['upstreamporttype'], legend = False, fontsize=14)\n",
    "pdf"
   ]
  },
  {
   "cell_type": "code",
   "execution_count": 7,
   "metadata": {},
   "outputs": [
    {
     "data": {
      "text/html": [
       "<div>\n",
       "<style scoped>\n",
       "    .dataframe tbody tr th:only-of-type {\n",
       "        vertical-align: middle;\n",
       "    }\n",
       "\n",
       "    .dataframe tbody tr th {\n",
       "        vertical-align: top;\n",
       "    }\n",
       "\n",
       "    .dataframe thead th {\n",
       "        text-align: right;\n",
       "    }\n",
       "</style>\n",
       "<table border=\"1\" class=\"dataframe\">\n",
       "  <thead>\n",
       "    <tr style=\"text-align: right;\">\n",
       "      <th></th>\n",
       "      <th>portchanneling</th>\n",
       "      <th>count</th>\n",
       "    </tr>\n",
       "  </thead>\n",
       "  <tbody>\n",
       "    <tr>\n",
       "      <th>0</th>\n",
       "      <td>cross-chassis LAG</td>\n",
       "      <td>1</td>\n",
       "    </tr>\n",
       "    <tr>\n",
       "      <th>1</th>\n",
       "      <td>No link aggregation</td>\n",
       "      <td>72</td>\n",
       "    </tr>\n",
       "    <tr>\n",
       "      <th>2</th>\n",
       "      <td>2 Link Aggregation Groups</td>\n",
       "      <td>78</td>\n",
       "    </tr>\n",
       "  </tbody>\n",
       "</table>\n",
       "</div>"
      ],
      "text/plain": [
       "              portchanneling  count\n",
       "0          cross-chassis LAG      1\n",
       "1        No link aggregation     72\n",
       "2  2 Link Aggregation Groups     78"
      ]
     },
     "execution_count": 7,
     "metadata": {},
     "output_type": "execute_result"
    },
    {
     "data": {
      "image/png": "[encoded data removed]",
      "text/plain": [
       "<Figure size 432x288 with 1 Axes>"
      ]
     },
     "metadata": {},
     "output_type": "display_data"
    }
   ],
   "source": [
    "pdf = spark.sql(\"select portchanneling,count(*) as count from pcmas group by portchanneling\").toPandas()\n",
    "#pdf.plot(kind='bar',x='portchanneling')\n",
    "ax1 = plt.subplot(121, aspect='equal')\n",
    "pdf.plot(kind='pie', y = 'count', ax=ax1, autopct='%1.1f%%', startangle=90, shadow=False, labels=pdf['portchanneling'], legend = False, fontsize=14)\n",
    "pdf"
   ]
  },
  {
   "cell_type": "code",
   "execution_count": 8,
   "metadata": {},
   "outputs": [
    {
     "data": {
      "text/html": [
       "<div>\n",
       "<style scoped>\n",
       "    .dataframe tbody tr th:only-of-type {\n",
       "        vertical-align: middle;\n",
       "    }\n",
       "\n",
       "    .dataframe tbody tr th {\n",
       "        vertical-align: top;\n",
       "    }\n",
       "\n",
       "    .dataframe thead th {\n",
       "        text-align: right;\n",
       "    }\n",
       "</style>\n",
       "<table border=\"1\" class=\"dataframe\">\n",
       "  <thead>\n",
       "    <tr style=\"text-align: right;\">\n",
       "      <th></th>\n",
       "      <th>numexaccracks</th>\n",
       "      <th>count</th>\n",
       "    </tr>\n",
       "  </thead>\n",
       "  <tbody>\n",
       "    <tr>\n",
       "      <th>0</th>\n",
       "      <td>0</td>\n",
       "      <td>56</td>\n",
       "    </tr>\n",
       "    <tr>\n",
       "      <th>1</th>\n",
       "      <td>1</td>\n",
       "      <td>71</td>\n",
       "    </tr>\n",
       "    <tr>\n",
       "      <th>2</th>\n",
       "      <td>2</td>\n",
       "      <td>16</td>\n",
       "    </tr>\n",
       "    <tr>\n",
       "      <th>3</th>\n",
       "      <td>3</td>\n",
       "      <td>5</td>\n",
       "    </tr>\n",
       "    <tr>\n",
       "      <th>4</th>\n",
       "      <td>5</td>\n",
       "      <td>3</td>\n",
       "    </tr>\n",
       "  </tbody>\n",
       "</table>\n",
       "</div>"
      ],
      "text/plain": [
       "   numexaccracks  count\n",
       "0              0     56\n",
       "1              1     71\n",
       "2              2     16\n",
       "3              3      5\n",
       "4              5      3"
      ]
     },
     "execution_count": 8,
     "metadata": {},
     "output_type": "execute_result"
    },
    {
     "data": {
      "image/png": "[encoded data removed]",
      "text/plain": [
       "<Figure size 432x288 with 1 Axes>"
      ]
     },
     "metadata": {},
     "output_type": "display_data"
    }
   ],
   "source": [
    "pdf = spark.sql(\"select numexaccracks,count(*) as count from pcmas group by numexaccracks order by numexaccracks\").toPandas()\n",
    "pdf.plot(kind='bar',x='numexaccracks')\n",
    "pdf"
   ]
  },
  {
   "cell_type": "code",
   "execution_count": 7,
   "metadata": {},
   "outputs": [
    {
     "data": {
      "text/html": [
       "<div>\n",
       "<style scoped>\n",
       "    .dataframe tbody tr th:only-of-type {\n",
       "        vertical-align: middle;\n",
       "    }\n",
       "\n",
       "    .dataframe tbody tr th {\n",
       "        vertical-align: top;\n",
       "    }\n",
       "\n",
       "    .dataframe thead th {\n",
       "        text-align: right;\n",
       "    }\n",
       "</style>\n",
       "<table border=\"1\" class=\"dataframe\">\n",
       "  <thead>\n",
       "    <tr style=\"text-align: right;\">\n",
       "      <th></th>\n",
       "      <th>NoLAG_count</th>\n",
       "    </tr>\n",
       "  </thead>\n",
       "  <tbody>\n",
       "    <tr>\n",
       "      <th>0</th>\n",
       "      <td>72</td>\n",
       "    </tr>\n",
       "  </tbody>\n",
       "</table>\n",
       "</div>"
      ],
      "text/plain": [
       "   NoLAG_count\n",
       "0           72"
      ]
     },
     "execution_count": 7,
     "metadata": {},
     "output_type": "execute_result"
    }
   ],
   "source": [
    "pdf = spark.sql(\"select count(*) as NoLAG_count from pcmas where portchanneling like 'No link aggregation'\").toPandas()\n",
    "pdf"
   ]
  },
  {
   "cell_type": "code",
   "execution_count": null,
   "metadata": {},
   "outputs": [],
   "source": []
  }
 ],
 "metadata": {
  "kernelspec": {
   "display_name": "Python 3",
   "language": "python",
   "name": "python3"
  },
  "language_info": {
   "codemirror_mode": {
    "name": "ipython",
    "version": 3
   },
   "file_extension": ".py",
   "mimetype": "text/x-python",
   "name": "python",
   "nbconvert_exporter": "python",
   "pygments_lexer": "ipython3",
   "version": "3.6.4"
  }
 },
 "nbformat": 4,
 "nbformat_minor": 2
}
