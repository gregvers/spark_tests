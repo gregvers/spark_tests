{
 "cells": [
  {
   "cell_type": "markdown",
   "metadata": {},
   "source": [
    "# Statistics on PCMA"
   ]
  },
  {
   "cell_type": "markdown",
   "metadata": {},
   "source": [
    "## Load libraries"
   ]
  },
  {
   "cell_type": "code",
   "execution_count": 1,
   "metadata": {},
   "outputs": [],
   "source": [
    "from pyspark import SparkContext\n",
    "import pyspark.sql.types as typ\n",
    "import os\n",
    "import re\n",
    "import xlrd\n",
    "import csv\n",
    "import pandas as pd\n",
    "import numpy as np\n",
    "import matplotlib\n",
    "import matplotlib.pyplot as plt\n",
    "%matplotlib inline\n",
    "sc = SparkContext.getOrCreate()"
   ]
  },
  {
   "cell_type": "markdown",
   "metadata": {},
   "source": [
    "## Create CSV files from original XLS PCMA spreadsheet"
   ]
  },
  {
   "cell_type": "code",
   "execution_count": 2,
   "metadata": {},
   "outputs": [],
   "source": [
    "pcma_directory = \"/Users/gverstra/Documents/PCMA/pcma-manual-config-master-3a24c3292530d2425a68e49b85c188cba8e5199a/spreadsheets\""
   ]
  },
  {
   "cell_type": "code",
   "execution_count": 32,
   "metadata": {},
   "outputs": [
    {
     "name": "stdout",
     "output_type": "stream",
     "text": [
      "Found 228 PCMA files with a JIRA issue\n",
      "Found 15 PCMA files without a JIRA issue\n",
      "Total of 192 PCMA files with a JIRA issue after removing duplicates\n"
     ]
    }
   ],
   "source": [
    "pcma_with_jira = 0\n",
    "pcma_without_jira = 0\n",
    "pcmadict = {}\n",
    "for file in os.listdir(pcma_directory):\n",
    "    if not file.endswith(\"-old.xlsm\"):\n",
    "        #print(os.path.join(pcma_directory, file))\n",
    "        x = re.match(r\"OCACS-(\\w*?)_\", file)\n",
    "        if x != None:\n",
    "            #print(\"OCACS-\" + x.group(1))\n",
    "            jira = \"OCACS-\" + x.group(1)\n",
    "            pcma_with_jira+=1\n",
    "            #if jira in pcmadict:\n",
    "            #    print(file)\n",
    "            #    print(pcmadict[jira])\n",
    "            pcmadict[jira] = file   # we keep the latest file listed\n",
    "        else:\n",
    "            pcma_without_jira+=1\n",
    "print(\"Found {0} PCMA files with a JIRA issue\".format(pcma_with_jira))\n",
    "print(\"Found {0} PCMA files without a JIRA issue\".format(pcma_without_jira))\n",
    "print(\"Total of {0} PCMA files with a JIRA issue after removing duplicates\".format(len(pcmadict)))\n",
    "for jira in pcmadict:\n",
    "    xlsfile = pcma_directory + \"/\" + pcmadict[jira]\n",
    "    wb = xlrd.open_workbook(xlsfile)\n",
    "    if 'OCC CP rack' in wb.sheet_names():\n",
    "        sheet = wb.sheet_by_name('OCC CP rack')\n",
    "    elif 'OCM CP rack' in wb.sheet_names():\n",
    "        sheet = wb.sheet_by_name('OCM CP rack')\n",
    "    csvfilename = pcma_directory + \"/\" + jira + \".csv\"\n",
    "    with open(csvfilename, 'w') as csvfile:\n",
    "        csvwriter = csv.writer(csvfile, delimiter=',', quotechar='\"')\n",
    "        for rownum in range(sheet.nrows):\n",
    "            csvwriter.writerow(sheet.row_values(rownum))"
   ]
  },
  {
   "cell_type": "markdown",
   "metadata": {},
   "source": [
    "## Load PCMA files into RDD pcmas"
   ]
  },
  {
   "cell_type": "code",
   "execution_count": 44,
   "metadata": {},
   "outputs": [
    {
     "data": {
      "text/plain": [
       "[('file:/Users/gverstra/Documents/PCMA/pcma-manual-config-master-3a24c3292530d2425a68e49b85c188cba8e5199a/spreadsheets/OCACS-1026.csv',\n",
       "  'Oracle Cloud Machine Platform Configuration Assistant,,,,,,,,,,,,,,,,, Version: 17.2.3-091117,\\r\\n,,,,,,,,,,,,,,,,,,\\r\\n,Customer Name,,,Beijing Navinfo Co Ltd ,,,,,,,Enter Customer Name,,,,,,,\\r\\n,,,,,,,,,,,,,,,,,,\\r\\n,Cloud Identifier,,,1576627.0,,,,,,,Enter the Subscription ID for the Oracle Cloud Machine Control Plane subscription (this is a 7-9 digit number).,,,,,,,\\r\\n,,,,,,,,,,,,,,,,,,\\r\\n,Country,,,China,,,,,,CN,\"Enter the country this Oracle Cloud deployment will be part of. e.g. \"\"Australia\"\",\"\"France\"\" (ISO 3166).\",,,,,,,\\r\\n,,,,,,,,,,,,,,,,,,\\r\\n,Control Plane Identifier,,,1.0,,,,,,,\"Enter the Control Plane identifier for the deployment, this is 1 in most cases.\",,,,,,,\\r\\n,,,,,,,,,,,,,,,,,,\\r\\n,Domain ,,,<oracle specified>,,,s1576627.oraclecloudatcustomer.com,,,,\"Oracle will deploy the Oracle Cloud utilizing an Oracle owned domain. As part of this installation, valid CA SSL certificates will be installed.\",,,,,,,\\r\\n,,,,,,,,,,,,,,,,,,\\r\\n,DNS Subdomain,,,cn1.ocm.s1576627.oraclecloudatcustomer.com,,,,,,,This is the DNS domain used for Oracle Cloud Portal and API URLs provided by OCM Control Plane.,,,,,,,\\r\\n,,,,,,,,,,,,,,,,,,\\r\\n,DNS Server,,,192.9.200.82,,,,,,*,Provide minimum 2 IP addresses for DNS Servers. The name resolution for DNS subdomain cn1.ocm.s1576627.oraclecloudatcustomer.com must be delegated to the Oracle Cloud Machine Control Plane DNS servers. The DNS servers have to be routable from the OCM ToR switches.,,,,,,,\\r\\n,,,,,,,,,,,,,,,,,,\\r\\n,NTP Server,,,192.168.3.180,,,,,,*,Provide minimum 2 IP addresses for NTP Servers (higher than stratum 7). The NTP servers have to be routable from the OCM OOB mgmt switch.,,,,,,,\\r\\n,,,,,,,,,,,,,,,,,,\\r\\n,,,SMTP server,192.168.0.185,,port,25.0,,,,Provide a SMTP server FQDN and port with optional security settings. The SMTP server has to be routable from the OCM ToR switches.,,,,,,,\\r\\n,,,,,,,,,,,,,,,,,,\\r\\n,,,SMTP security,NONE,,,,SMTP credential key,,,,,,,,,,\\r\\n,,,,,,,,,,,,,,,,,,\\r\\n,Cloud at Customer configuration,,,,,,,,,,,,,,,,,\\r\\n,,,,,,,,,,,,,,,,,,\\r\\n,,,# of OCM racks including control plane,1.0,,,,,,,,,,,,,,\\r\\n,,,,,,,,,,,,,,,,,,\\r\\n,,,# of ExaCM racks,0.0,,,,,,,,,,,,,,\\r\\n,,,,,,,,,,,,,,,,,,\\r\\n,Client access,,,,,,,,,,Layer-3 Connectivity,,,,,,,\\r\\n,,,,,,,,,,,,,,,,,,\\r\\n,Client IP Pool,,,192.168.61.0,/,24.0,,,,,\"IP addresses to assign to Compute and PaaS instances. Since Cloud instances\\' Public IP will come from this subnet, customer needs to provide a subnet large enough for Compute and PaaS instance deployment  (Example: 10.1.1.0/23). An OCM Control Plane only configuration requires a /25. For IaaS and PaaS minimum configurations, a /23 is recommended. For more that 400 OCPU, (OCPUs x 2) + 128,  rounded up to the nearest subnet mask.\",,,,,,80 for control plane,\\r\\n,,,,,,,,,,,,,,,,,,\\r\\n,,,Port type on the upstream router(s),10Gbps,,,Port type: SFP+  Cables type: MPO-4LC,,,,\"Select the port type on the client-side upstream router(s), 10Gbps (SFP+) or 40Gbps (QSFP+).\",,,,,,,\\r\\n,,,,,,,,,,,,,,,,,,\\r\\n,,,Number of ports on the upstream router(s),16.0,,,4 MPO-4LC cables shipped,,,,Provide the number of ports on the client-side upstream router(s) to connect to OCM ToR switches.,,,,,,,\\r\\n,,,,,,,,,,,,,,,,,,\\r\\n,Upstream router Port Config Type,,,No link aggregation,,,,,,,\"If link aggregation is not configured on the client-side upstream router(s) downlinks to OCM, select \"\"No Link aggregation\"\". If link aggregation is configured with 2 LAGs for each OCM rack, select \"\"2 Link Aggregation Groups\"\".\",,,,,,,\\r\\n,,,,,,,,,,,,,,,,,,\\r\\n,MTU (L3) set on upstream router ports,,,9202.0,,,,,,,\"MTU set on the ports on your upstream switch. We require a Layer 3 MTU, not Layer 2. The maximum MTU size on the ToR switches is 9202.\",,,,,,,\\r\\n,,,,,,,,,,,,,,,,,,\\r\\n,Client-side handoff netmask (CIDR notation),,,/30,,,,,,,Select the CIDR netmask for the client-side handoff subnets.,,,,,,,\\r\\n,,,,,,,,,,,,,,,,,,\\r\\n,Client-side handoff addressing,,,,,,IP on Cust router\\'s,,IP on OCM ToR\\'s,,\"Subnets for handoff networks configuration between Customer upstream router(s) and OCM ToR are required for each link (or group of links when link aggregation is configured). \\nProvide the CIDR for the handoff networks, the last octet of the IP assigned on the Customer upstream router(s) port (or port group) and the IP to assign on the paired OCM ToR port (or port group).\",,,,,,,\\r\\n,OCM ToR port/group,,,Handoff network,,,port/group (last octet),,port/group (last octet),,,,,,,,,\\r\\n,ToR1#50:0,,,192.254.252.0,/30,,1.0,,2.0,,,,,,,,,\\r\\n,ToR2#50:0,,,192.254.252.4,/30,,5.0,,6.0,,,,,,,,,\\r\\n,ToR1#51:0,,,192.254.252.8,/30,,9.0,,10.0,,,,,,,,,\\r\\n,ToR2#51:0,,,192.254.252.12,/30,,13.0,,14.0,,,,,,,,,\\r\\n,ToR1#50:1,,,192.254.252.16,/30,,17.0,,18.0,,,,,,,,,\\r\\n,ToR2#50:1,,,192.254.252.20,/30,,21.0,,22.0,,,,,,,,,\\r\\n,ToR1#51:1,,,192.254.252.24,/30,,25.0,,26.0,,,,,,,,,\\r\\n,ToR2#51:1,,,192.254.252.28,/30,,29.0,,30.0,,,,,,,,,\\r\\n,ToR1#50:2,,,192.254.252.32,/30,,33.0,,34.0,,,,,,,,,\\r\\n,ToR2#50:2,,,192.254.252.36,/30,,37.0,,38.0,,,,,,,,,\\r\\n,ToR1#51:2,,,192.254.252.40,/30,,41.0,,42.0,,,,,,,,,\\r\\n,ToR2#51:2,,,192.254.252.44,/30,,45.0,,46.0,,,,,,,,,\\r\\n,ToR1#50:3,,,192.254.252.48,/30,,49.0,,50.0,,,,,,,,,\\r\\n,ToR2#50:3,,,192.254.252.52,/30,,53.0,,54.0,,,,,,,,,\\r\\n,ToR1#51:3,,,192.254.252.56,/30,,57.0,,58.0,,,,,,,,,\\r\\n,ToR2#51:3,,,192.254.252.60,/30,,61.0,,62.0,,,,,,,,,\\r\\n,,,,,,,,,,,,,,,,,,\\r\\n,Oracle CloudOps Management access  (Control Plane rack),,,,,,,,,,Layer-3 Connectivity,,,,,,,\\r\\n,,,,,,,,,,,,,,,,,,\\r\\n,Management IP Pool,,,192.168.62.0,/,24.0,,,,,Management IP addresses for OASG to manage and monitor Oracle Cloud At Customer rack (CIDR /26 minimum is required).,,,,,,,\\r\\n,,,,,,,,,,,,,,,,,,\\r\\n,,,Port type on the upstream management router,RJ45,,,,,,,\"Select the port type on the management-side upstream router, RJ45 (copper) or SFP+ (fiber).\",,,,,,,\\r\\n,,,,,,,,,,,,,,,,,,\\r\\n,Number of ports on the upstream management router,,,1.0,,,,,,,\"Provide the number of ports on the management-side upstream router to connect to OCM OOB (1 is the default, 2 is only supported with SFP+ ports).\",,,,,,,\\r\\n,,,,,,,,,,,,,,,,,,\\r\\n,MTU (L3) set on upstream management router ports,,,9198.0,,,,,,,\"MTU set on the ports of the management-side upstream router. We require a Layer 3 MTU, not Layer 2. The maximum MTU size on the OOB switches is 9198.\",,,,,,,\\r\\n,,,,,,,,,,,,,,,,,,\\r\\n,Management-side handoff netmask (CIDR notation),,,/30,,,,,,,Select the CIDR netmask for the management-side handoff subnets.,,,,,,,\\r\\n,,,,,,,,,,,,,,,,,,\\r\\n,,,Management-side handoff addressing,,,,IP on Cust Mgmt router\\'s,,IP on OCM OOB\\'s,,\"Subnets for handoff network configuration between the management-side upstream router and OCM OOB are required for each link.\\nProvide the CIDR for the handoff networks, the last octet of the IP assigned on the management-side upstream router port and the IP to assign on the paired OCM OOB port.\",,,,,,,\\r\\n,OCM OOB port,,,Handoff network,,,port (last octet),,port (last octet),,,,,,,,,\\r\\n,OOB port 46,,,192.168.63.4,/30,,5.0,,6.0,,,,,,,,,\\r\\n,,,,x.x.x.x,/30,,y,,z,,,,,,,,,\\r\\n,,,,,,,,,,,,,,,,,,\\r\\n,Oracle Advanced Support Gateway,,,,,,,,,,,,,,,,,\\r\\n,,,,,,,,,,,,,,,,,,\\r\\n,,,,,,,,,,,,,,,,,,\\r\\n,Primary IP Address/Subnet,,,192.168.63.2,/,30.0,,,,,IP address and CIDR Subnet assigned to the OASG that will communicate with the Cloud Machine and the Internet (Example 1.2.3.4/24). The IP is from a DMZ VLAN that can route to any IP addresses from the Management IP pool.,,,,,,,\\r\\n,,,,,,,,,,,,,,,,,,\\r\\n,Primary Default Gateway,,,192.168.63.1,,,,,,,Default gateway for Primary Subnet (Example 1.2.3.1).,,,,,,,\\r\\n,,,,,,,,,,,,,,,,,,\\r\\n,ILOM IP Address,,,192.168.63.9,/,30.0,,,,,IP address and CIDR Subnet assigned to the OASG Lights Out Management interface for hardware monitoring of the physical system (Example 1.2.3.3/24).,,,,,,,\\r\\n,,,,,,,,,,,,,,,,,,\\r\\n,ILOM Default Gateway,,,192.168.63.10,,,,,,,Default gateway for ILOM interface (Example 1.2.3.1).,,,,,,,\\r\\n,,,,,,,,,,,,,,,,,,\\r\\n,Static Routes,,,,,,,,,,\"If there are multiple gateways on the Primary Subnet and a different gateway should be used for the internal traffic as opposed to external traffic define the routes here using the following format <Network>/<CIDR> via <gateway>\\n(Example 10.10.16.0/20 via 10.10.10.254)\",,,,,,,\\r\\n,,,,,,,,,,,,,,,,,,\\r\\n,,,,,,,,,,,,,,,,,,\\r\\n,,,,,,,,,,,,,,,,,,\\r\\n,HTTPS Proxy IP Address,,,,,,,,,,\"IP address of the Proxy server (and its Proxy Port, User Name, Password) if a proxy is required for the outbound https traffic to the Oracle URLs as defined in OASG Security Guide. \\n\\nLeave blank for any of the HTTPS Proxy information that is not required.\",,,,,,,\\r\\n,,,,,,,,,,,,,,,,,,\\r\\n,HTTPS Proxy Port,,,,,,,,,,,,,,,,,\\r\\n,,,,,,,,,,,,,,,,,,\\r\\n,HTTPS Proxy Username,,,,,,,,,,,,,,,,,\\r\\n,,,,,,,,,,,,,,,,,,\\r\\n,HTTPS Proxy Password,,,,,,,,,,,,,,,,,\\r\\n,,,,,,,,,,,,,,,,,,\\r\\n'),\n",
       " ('file:/Users/gverstra/Documents/PCMA/pcma-manual-config-master-3a24c3292530d2425a68e49b85c188cba8e5199a/spreadsheets/OCACS-1057.csv',\n",
       "  'Oracle Cloud Machine Platform Configuration Assistant,,,,,,,,,,,,,,,,, Version: 17.2.3-091117,\\r\\n,,,,,,,,,,,,,,,,,,\\r\\n,Customer Name,,,AI Inversiones Palo Alto II S.A.C.,,,,,,,Enter Customer Name,,,,,,,\\r\\n,,,,,,,,,,,,,,,,,,\\r\\n,Cloud Identifier,,,1557291.0,,,,,,,Enter the Subscription ID for the Oracle Cloud Machine Control Plane subscription (this is a 7-9 digit number).,,,,,,,\\r\\n,,,,,,,,,,,,,,,,,,\\r\\n,Country,,,Peru,,,,,,PE,\"Enter the country this Oracle Cloud deployment will be part of. e.g. \"\"Australia\"\",\"\"France\"\" (ISO 3166).\",,,,,,,\\r\\n,,,,,,,,,,,,,,,,,,\\r\\n,Control Plane Identifier,,,1.0,,,,,,,\"Enter the Control Plane identifier for the deployment, this is 1 in most cases.\",,,,,,,\\r\\n,,,,,,,,,,,,,,,,,,\\r\\n,Domain ,,,<oracle specified>,,,s1557291.oraclecloudatcustomer.com,,,,\"Oracle will deploy the Oracle Cloud utilizing an Oracle owned domain. As part of this installation, valid CA SSL certificates will be installed.\",,,,,,,\\r\\n,,,,,,,,,,,,,,,,,,\\r\\n,DNS Subdomain,,,pe1.ocm.s1557291.oraclecloudatcustomer.com,,,,,,,This is the DNS domain used for Oracle Cloud Portal and API URLs provided by OCM Control Plane.,,,,,,,\\r\\n,,,,,,,,,,,,,,,,,,\\r\\n,DNS Server,,,10.240.100.12,,10.240.0.10,,,,*,Provide minimum 2 IP addresses for DNS Servers. The name resolution for DNS subdomain pe1.ocm.s1557291.oraclecloudatcustomer.com must be delegated to the Oracle Cloud Machine Control Plane DNS servers. The DNS servers have to be routable from the OCM ToR switches.,,,,,,,\\r\\n,,,,,,,,,,,,,,,,,,\\r\\n,NTP Server,,, 10.240.0.38,,10.240.30.25,,,,*,Provide minimum 2 IP addresses for NTP Servers (higher than stratum 7). The NTP servers have to be routable from the OCM OOB mgmt switch.,,,,,,,\\r\\n,,,,,,,,,,,,,,,,,,\\r\\n,,,SMTP server,mail.gmd.com.pe,,port,25.0,,,,Provide a SMTP server FQDN and port with optional security settings. The SMTP server has to be routable from the OCM ToR switches.,,,,,,,\\r\\n,,,,,,,,,,,,,,,,,,\\r\\n,,,SMTP security,NONE,,,,SMTP credential key,,,,,,,,,,\\r\\n,,,,,,,,,,,,,,,,,,\\r\\n,Cloud at Customer configuration,,,,,,,,,,,,,,,,,\\r\\n,,,,,,,,,,,,,,,,,,\\r\\n,,,# of OCM racks including control plane,1.0,,,,,,,,,,,,,,\\r\\n,,,,,,,,,,,,,,,,,,\\r\\n,,,# of ExaCM racks,0.0,,,,,,,,,,,,,,\\r\\n,,,,,,,,,,,,,,,,,,\\r\\n,Client access,,,,,,,,,,Layer-3 Connectivity,,,,,,,\\r\\n,,,,,,,,,,,,,,,,,,\\r\\n,Client IP Pool,,,10.241.100.0,/,23.0,,,,,\"IP addresses to assign to Compute and PaaS instances. Since Cloud instances\\' Public IP will come from this subnet, customer needs to provide a subnet large enough for Compute and PaaS instance deployment  (Example: 10.1.1.0/23). An OCM Control Plane only configuration requires a /25. For IaaS and PaaS minimum configurations, a /23 is recommended. For more that 400 OCPU, (OCPUs x 2) + 128,  rounded up to the nearest subnet mask.\",,,,,,80 for control plane,\\r\\n,,,,,,,,,,,,,,,,,,\\r\\n,,,Port type on the upstream router(s),10Gbps,,,Port type: SFP+  Cables type: MPO-4LC,,,,\"Select the port type on the client-side upstream router(s), 10Gbps (SFP+) or 40Gbps (QSFP+).\",,,,,,,\\r\\n,,,,,,,,,,,,,,,,,,\\r\\n,,,Number of ports on the upstream router(s),8.0,,,4 MPO-4LC cables shipped,,,,Provide the number of ports on the client-side upstream router(s) to connect to OCM ToR switches.,,,,,,,\\r\\n,,,,,,,,,,,,,,,,,,\\r\\n,Upstream router Port Config Type,,,2 Link Aggregation Groups,,,,,,,\"If link aggregation is not configured on the client-side upstream router(s) downlinks to OCM, select \"\"No Link aggregation\"\". If link aggregation is configured with 2 LAGs for each OCM rack, select \"\"2 Link Aggregation Groups\"\".\",,,,,,,\\r\\n,,,,,,,,,,,,,,,,,,\\r\\n,MTU (L3) set on upstream router ports,,,9202.0,,,,,,,\"MTU set on the ports on your upstream switch. We require a Layer 3 MTU, not Layer 2. The maximum MTU size on the ToR switches is 9202.\",,,,,,,\\r\\n,,,,,,,,,,,,,,,,,,\\r\\n,Client-side handoff netmask (CIDR notation),,,/30,,,,,,,Select the CIDR netmask for the client-side handoff subnets.,,,,,,,\\r\\n,,,,,,,,,,,,,,,,,,\\r\\n,Client-side handoff addressing,,,,,,IP on Cust router\\'s,,IP on OCM ToR\\'s,,\"Subnets for handoff networks configuration between Customer upstream router(s) and OCM ToR are required for each link (or group of links when link aggregation is configured). \\nProvide the CIDR for the handoff networks, the last octet of the IP assigned on the Customer upstream router(s) port (or port group) and the IP to assign on the paired OCM ToR port (or port group).\",,,,,,,\\r\\n,OCM ToR port/group,,,Handoff network,,,port/group (last octet),,port/group (last octet),,,,,,,,,\\r\\n,Group #1,,,10.20.30.0,/30,,1.0,,2.0,,,,,,,,,\\r\\n,Group #2,,,10.20.30.4,/30,,5.0,,6.0,,,,,,,,,\\r\\n,,,,10.10.0.9/30,/30,,10.10.0.10,,10.10.0.11,,,,,,,,,\\r\\n,,,,10.10.0.13/30,/30,,10.10.0.14,,10.10.0.15,,,,,,,,,\\r\\n,,,,x.x.x.x,/30,,y,,z,,,,,,,,,\\r\\n,,,,x.x.x.x,/30,,y,,z,,,,,,,,,\\r\\n,,,,x.x.x.x,/30,,y,,z,,,,,,,,,\\r\\n,,,,x.x.x.x,/30,,y,,z,,,,,,,,,\\r\\n,,,,x.x.x.x,/30,,y,,z,,,,,,,,,\\r\\n,,,,x.x.x.x,/30,,y,,z,,,,,,,,,\\r\\n,,,,x.x.x.x,/30,,y,,z,,,,,,,,,\\r\\n,,,,x.x.x.x,/30,,y,,z,,,,,,,,,\\r\\n,,,,x.x.x.x,/30,,y,,z,,,,,,,,,\\r\\n,,,,x.x.x.x,/30,,y,,z,,,,,,,,,\\r\\n,,,,x.x.x.x,/30,,y,,z,,,,,,,,,\\r\\n,,,,x.x.x.x,/30,,y,,z,,,,,,,,,\\r\\n,,,,,,,,,,,,,,,,,,\\r\\n,Oracle CloudOps Management access  (Control Plane rack),,,,,,,,,,Layer-3 Connectivity,,,,,,,\\r\\n,,,,,,,,,,,,,,,,,,\\r\\n,Management IP Pool,,,10.20.31.0,/,26.0,,,,,Management IP addresses for OASG to manage and monitor Oracle Cloud At Customer rack (CIDR /26 minimum is required).,,,,,,,\\r\\n,,,,,,,,,,,,,,,,,,\\r\\n,,,Port type on the upstream management router,RJ45,,,,,,,\"Select the port type on the management-side upstream router, RJ45 (copper) or SFP+ (fiber).\",,,,,,,\\r\\n,,,,,,,,,,,,,,,,,,\\r\\n,Number of ports on the upstream management router,,,1.0,,,,,,,\"Provide the number of ports on the management-side upstream router to connect to OCM OOB (1 is the default, 2 is only supported with SFP+ ports).\",,,,,,,\\r\\n,,,,,,,,,,,,,,,,,,\\r\\n,MTU (L3) set on upstream management router ports,,,9198.0,,,,,,,\"MTU set on the ports of the management-side upstream router. We require a Layer 3 MTU, not Layer 2. The maximum MTU size on the OOB switches is 9198.\",,,,,,,\\r\\n,,,,,,,,,,,,,,,,,,\\r\\n,Management-side handoff netmask (CIDR notation),,,/30,,,,,,,Select the CIDR netmask for the management-side handoff subnets.,,,,,,,\\r\\n,,,,,,,,,,,,,,,,,,\\r\\n,,,Management-side handoff addressing,,,,IP on Cust Mgmt router\\'s,,IP on OCM OOB\\'s,,\"Subnets for handoff network configuration between the management-side upstream router and OCM OOB are required for each link.\\nProvide the CIDR for the handoff networks, the last octet of the IP assigned on the management-side upstream router port and the IP to assign on the paired OCM OOB port.\",,,,,,,\\r\\n,OCM OOB port,,,Handoff network,,,port (last octet),,port (last octet),,,,,,,,,\\r\\n,OOB port 46,,,10.20.30.8,/30,,9.0,,10.0,,,,,,,,,\\r\\n,,,,x.x.x.x,/30,,y,,z,,,,,,,,,\\r\\n,,,,,,,,,,,,,,,,,,\\r\\n,Oracle Advanced Support Gateway,,,,,,,,,,,,,,,,,\\r\\n,,,,,,,,,,,,,,,,,,\\r\\n,,,,,,,,,,,,,,,,,,\\r\\n,Primary IP Address/Subnet,,,10.240.101.101,/,24.0,,,,,IP address and CIDR Subnet assigned to the OASG that will communicate with the Cloud Machine and the Internet (Example 1.2.3.4/24). The IP is from a DMZ VLAN that can route to any IP addresses from the Management IP pool.,,,,,,,\\r\\n,,,,,,,,,,,,,,,,,,\\r\\n,Primary Default Gateway,,,10.240.101.1,,,,,,,Default gateway for Primary Subnet (Example 1.2.3.1).,,,,,,,\\r\\n,,,,,,,,,,,,,,,,,,\\r\\n,ILOM IP Address,,,10.240.101.100,/,24.0,,,,,IP address and CIDR Subnet assigned to the OASG Lights Out Management interface for hardware monitoring of the physical system (Example 1.2.3.3/24).,,,,,,,\\r\\n,,,,,,,,,,,,,,,,,,\\r\\n,ILOM Default Gateway,,,10.240.101.1,,,,,,,Default gateway for ILOM interface (Example 1.2.3.1).,,,,,,,\\r\\n,,,,,,,,,,,,,,,,,,\\r\\n,Static Routes,,,,,,,,,,\"If there are multiple gateways on the Primary Subnet and a different gateway should be used for the internal traffic as opposed to external traffic define the routes here using the following format <Network>/<CIDR> via <gateway>\\n(Example 10.10.16.0/20 via 10.10.10.254)\",,,,,,,\\r\\n,,,,,,,,,,,,,,,,,,\\r\\n,,,,,,,,,,,,,,,,,,\\r\\n,,,,,,,,,,,,,,,,,,\\r\\n,HTTPS Proxy IP Address,,,,,,,,,,\"IP address of the Proxy server (and its Proxy Port, User Name, Password) if a proxy is required for the outbound https traffic to the Oracle URLs as defined in OASG Security Guide. \\n\\nLeave blank for any of the HTTPS Proxy information that is not required.\",,,,,,,\\r\\n,,,,,,,,,,,,,,,,,,\\r\\n,HTTPS Proxy Port,,,,,,,,,,,,,,,,,\\r\\n,,,,,,,,,,,,,,,,,,\\r\\n,HTTPS Proxy Username,,,,,,,,,,,,,,,,,\\r\\n,,,,,,,,,,,,,,,,,,\\r\\n,HTTPS Proxy Password,,,,,,,,,,,,,,,,,\\r\\n,,,,,,,,,,,,,,,,,,\\r\\n'),\n",
       " ('file:/Users/gverstra/Documents/PCMA/pcma-manual-config-master-3a24c3292530d2425a68e49b85c188cba8e5199a/spreadsheets/OCACS-1062.csv',\n",
       "  'Oracle Cloud Machine Platform Configuration Assistant,,,,,,,,,,,,,,,,, Version: 17.2.3-091117,\\r\\n,,,,,,,,,,,,,,,,,,\\r\\n,Customer Name,,,ATT,,,,,,,Enter Customer Name,,,,,,,\\r\\n,,,,,,,,,,,,,,,,,,\\r\\n,Cloud Identifier,,,1537062.0,,,,,,,Enter the Subscription ID for the Oracle Cloud Machine Control Plane subscription (this is a 7-9 digit number).,,,,,,,\\r\\n,,,,,,,,,,,,,,,,,,\\r\\n,Country,,,United States of America,,,,,,US,\"Enter the country this Oracle Cloud deployment will be part of. e.g. \"\"Australia\"\",\"\"France\"\" (ISO 3166).\",,,,,,,\\r\\n,,,,,,,,,,,,,,,,,,\\r\\n,Control Plane Identifier,,,2.0,,,,,,,\"Enter the Control Plane identifier for the deployment, this is 1 in most cases.\",,,,,,,\\r\\n,,,,,,,,,,,,,,,,,,\\r\\n,Domain ,,,<oracle specified>,,,s1537062.oraclecloudatcustomer.com,,,,\"Oracle will deploy the Oracle Cloud utilizing an Oracle owned domain. As part of this installation, valid CA SSL certificates will be installed.\",,,,,,,\\r\\n,,,,,,,,,,,,,,,,,,\\r\\n,DNS Subdomain,,,us2.ocm.s1537062.oraclecloudatcustomer.com,,,,,,,This is the DNS domain used for Oracle Cloud Portal and API URLs provided by OCM Control Plane.,,,,,,,\\r\\n,,,,,,,,,,,,,,,,,,\\r\\n,DNS Server,,,130.6.20.7,,130.6.20.23,,,,*,Provide minimum 2 IP addresses for DNS Servers. The name resolution for DNS subdomain us2.ocm.s1537062.oraclecloudatcustomer.com must be delegated to the Oracle Cloud Machine Control Plane DNS servers. The DNS servers have to be routable from the OCM ToR switches.,,,,,,,\\r\\n,,,,,,,,,,,,,,,,,,\\r\\n,NTP Server,,,100.104.15.254,,,,,,*,Provide minimum 2 IP addresses for NTP Servers (higher than stratum 7). The NTP servers have to be routable from the OCM OOB mgmt switch.,,,,,,,\\r\\n,,,,,,,,,,,,,,,,,,\\r\\n,,,SMTP server,smtp.it.att.com,,port,25.0,,,,Provide a SMTP server FQDN and port with optional security settings. The SMTP server has to be routable from the OCM ToR switches.,,,,,,,\\r\\n,,,,,,,,,,,,,,,,,,\\r\\n,,,SMTP security,NONE,,,,SMTP credential key,,,,,,,,,,\\r\\n,,,,,,,,,,,,,,,,,,\\r\\n,Cloud at Customer configuration,,,,,,,,,,,,,,,,,\\r\\n,,,,,,,,,,,,,,,,,,\\r\\n,,,# of OCM racks including control plane,1.0,,,,,,,,,,,,,,\\r\\n,,,,,,,,,,,,,,,,,,\\r\\n,,,# of ExaCM racks,3.0,,,,,,,,,,,,,,\\r\\n,,,,,,,,,,,,,,,,,,\\r\\n,Client access,,,,,,,,,,Layer-3 Connectivity,,,,,,,\\r\\n,,,,,,,,,,,,,,,,,,\\r\\n,Client IP Pool,,,130.6.200.0,/,23.0,,,,,\"IP addresses to assign to Compute and PaaS instances. Since Cloud instances\\' Public IP will come from this subnet, customer needs to provide a subnet large enough for Compute and PaaS instance deployment  (Example: 10.1.1.0/23). An OCM Control Plane only configuration requires a /25. For IaaS and PaaS minimum configurations, a /23 is recommended. For more that 400 OCPU, (OCPUs x 2) + 128,  rounded up to the nearest subnet mask.\",,,,,,80 for control plane,\\r\\n,,,,,,,,,,,,,,,,,,\\r\\n,,,Port type on the upstream router(s),40Gbps,,,Port type: QSFP+  Cables type: MPO-MPO,,,,\"Select the port type on the client-side upstream router(s), 10Gbps (SFP+) or 40Gbps (QSFP+).\",,,,,,,\\r\\n,,,,,,,,,,,,,,,,,,\\r\\n,,,Number of ports on the upstream router(s),4.0,,,4 MPO-MPO cables shipped,,,,Provide the number of ports on the client-side upstream router(s) to connect to OCM ToR switches.,,,,,,,\\r\\n,,,,,,,,,,,,,,,,,,\\r\\n,Upstream router Port Config Type,,,No link aggregation,,,,,,,\"If link aggregation is not configured on the client-side upstream router(s) downlinks to OCM, select \"\"No Link aggregation\"\". If link aggregation is configured with 2 LAGs for each OCM rack, select \"\"2 Link Aggregation Groups\"\".\",,,,,,,\\r\\n,,,,,,,,,,,,,,,,,,\\r\\n,MTU (L3) set on upstream router ports,,,1500.0,,,,,,,\"MTU set on the ports on your upstream switch. We require a Layer 3 MTU, not Layer 2. The maximum MTU size on the ToR switches is 9202.\",,,,,,,\\r\\n,,,,,,,,,,,,,,,,,,\\r\\n,Client-side handoff netmask (CIDR notation),,,/30,,,,,,,Select the CIDR netmask for the client-side handoff subnets.,,,,,,,\\r\\n,,,,,,,,,,,,,,,,,,\\r\\n,Client-side handoff addressing,,,,,,IP on Cust router\\'s,,IP on OCM ToR\\'s,,\"Subnets for handoff networks configuration between Customer upstream router(s) and OCM ToR are required for each link (or group of links when link aggregation is configured). \\nProvide the CIDR for the handoff networks, the last octet of the IP assigned on the Customer upstream router(s) port (or port group) and the IP to assign on the paired OCM ToR port (or port group).\",,,,,,,\\r\\n,OCM ToR port/group,,,Handoff network,,,port/group (last octet),,port/group (last octet),,,,,,,,,\\r\\n,ToR1#50,,,130.6.205.8,/30,,9.0,,10.0,,,,,,,,,\\r\\n,ToR2#50,,,130.6.205.72,/30,,73.0,,74.0,,,,,,,,,\\r\\n,ToR1#51,,,130.6.205.12,/30,,13.0,,14.0,,,,,,,,,\\r\\n,ToR2#51,,,130.6.205.76,/30,,77.0,,78.0,,,,,,,,,\\r\\n,,,,x.x.x.x,/30,,y,,z,,,,,,,,,\\r\\n,,,,x.x.x.x,/30,,y,,z,,,,,,,,,\\r\\n,,,,x.x.x.x,/30,,y,,z,,,,,,,,,\\r\\n,,,,x.x.x.x,/30,,y,,z,,,,,,,,,\\r\\n,,,,x.x.x.x,/30,,y,,z,,,,,,,,,\\r\\n,,,,x.x.x.x,/30,,y,,z,,,,,,,,,\\r\\n,,,,x.x.x.x,/30,,y,,z,,,,,,,,,\\r\\n,,,,x.x.x.x,/30,,y,,z,,,,,,,,,\\r\\n,,,,x.x.x.x,/30,,y,,z,,,,,,,,,\\r\\n,,,,x.x.x.x,/30,,y,,z,,,,,,,,,\\r\\n,,,,x.x.x.x,/30,,y,,z,,,,,,,,,\\r\\n,,,,x.x.x.x,/30,,y,,z,,,,,,,,,\\r\\n,,,,,,,,,,,,,,,,,,\\r\\n,Oracle CloudOps Management access  (Control Plane rack),,,,,,,,,,Layer-3 Connectivity,,,,,,,\\r\\n,,,,,,,,,,,,,,,,,,\\r\\n,Management IP Pool,,,100.104.32.0,/,20.0,,,,,Management IP addresses for OASG to manage and monitor Oracle Cloud At Customer rack (CIDR /26 minimum is required).,,,,,,,\\r\\n,,,,,,,,,,,,,,,,,,\\r\\n,,,Port type on the upstream management router,RJ45,,,,,,,\"Select the port type on the management-side upstream router, RJ45 (copper) or SFP+ (fiber).\",,,,,,,\\r\\n,,,,,,,,,,,,,,,,,,\\r\\n,Number of ports on the upstream management router,,,1.0,,,,,,,\"Provide the number of ports on the management-side upstream router to connect to OCM OOB (1 is the default, 2 is only supported with SFP+ ports).\",,,,,,,\\r\\n,,,,,,,,,,,,,,,,,,\\r\\n,MTU (L3) set on upstream management router ports,,,1500.0,,,,,,,\"MTU set on the ports of the management-side upstream router. We require a Layer 3 MTU, not Layer 2. The maximum MTU size on the OOB switches is 9198.\",,,,,,,\\r\\n,,,,,,,,,,,,,,,,,,\\r\\n,Management-side handoff netmask (CIDR notation),,,/30,,,,,,,Select the CIDR netmask for the management-side handoff subnets.,,,,,,,\\r\\n,,,,,,,,,,,,,,,,,,\\r\\n,,,Management-side handoff addressing,,,,IP on Cust Mgmt router\\'s,,IP on OCM OOB\\'s,,\"Subnets for handoff network configuration between the management-side upstream router and OCM OOB are required for each link.\\nProvide the CIDR for the handoff networks, the last octet of the IP assigned on the management-side upstream router port and the IP to assign on the paired OCM OOB port.\",,,,,,,\\r\\n,OCM OOB port,,,Handoff network,,,port (last octet),,port (last octet),,,,,,,,,\\r\\n,OOB port 46,,,192.168.100.0,/30,,1.0,,2.0,,,,,,,,,\\r\\n,,,,x.x.x.x,/30,,y,,z,,,,,,,,,\\r\\n,,,,,,,,,,,,,,,,,,\\r\\n,Oracle Advanced Support Gateway,,,,,,,,,,,,,,,,,\\r\\n,,,,,,,,,,,,,,,,,,\\r\\n,,,,,,,,,,,,,,,,,,\\r\\n,Primary IP Address/Subnet,,,130.6.205.6,/,30.0,,,,,IP address and CIDR Subnet assigned to the OASG that will communicate with the Cloud Machine and the Internet (Example 1.2.3.4/24). The IP is from a DMZ VLAN that can route to any IP addresses from the Management IP pool.,,,,,,,\\r\\n,,,,,,,,,,,,,,,,,,\\r\\n,Primary Default Gateway,,,130.6.205.5,,,,,,,Default gateway for Primary Subnet (Example 1.2.3.1).,,,,,,,\\r\\n,,,,,,,,,,,,,,,,,,\\r\\n,ILOM IP Address,,,100.104.47.251,/,20.0,,,,,IP address and CIDR Subnet assigned to the OASG Lights Out Management interface for hardware monitoring of the physical system (Example 1.2.3.3/24).,,,,,,,\\r\\n,,,,,,,,,,,,,,,,,,\\r\\n,ILOM Default Gateway,,,100.104.33.1,,,,,,,Default gateway for ILOM interface (Example 1.2.3.1).,,,,,,,\\r\\n,,,,,,,,,,,,,,,,,,\\r\\n,Static Routes,,,NO Static Routes,,,,,,,\"If there are multiple gateways on the Primary Subnet and a different gateway should be used for the internal traffic as opposed to external traffic define the routes here using the following format <Network>/<CIDR> via <gateway>\\n(Example 10.10.16.0/20 via 10.10.10.254)\",,,,,,,\\r\\n,,,,,,,,,,,,,,,,,,\\r\\n,,,,,,,,,,,,,,,,,,\\r\\n,,,,,,,,,,,,,,,,,,\\r\\n,HTTPS Proxy IP Address,,,one.proxy.att.com,,,,,,,\"IP address of the Proxy server (and its Proxy Port, User Name, Password) if a proxy is required for the outbound https traffic to the Oracle URLs as defined in OASG Security Guide. \\n\\nLeave blank for any of the HTTPS Proxy information that is not required.\",,,,,,,\\r\\n,,,,,,,,,,,,,,,,,,\\r\\n,HTTPS Proxy Port,,,8080.0,,,,,,,,,,,,,,\\r\\n,,,,,,,,,,,,,,,,,,\\r\\n,HTTPS Proxy Username,,,,,,,,,,,,,,,,,\\r\\n,,,,,,,,,,,,,,,,,,\\r\\n,HTTPS Proxy Password,,,,,,,,,,,,,,,,,\\r\\n,,,,,,,,,,,,,,,,,,\\r\\n'),\n",
       " ('file:/Users/gverstra/Documents/PCMA/pcma-manual-config-master-3a24c3292530d2425a68e49b85c188cba8e5199a/spreadsheets/OCACS-1063.csv',\n",
       "  'Oracle Cloud Machine Platform Configuration Assistant,,,,,,,,,,,,,,,,, Version: 17.2.3-091117,\\r\\n,,,,,,,,,,,,,,,,,,\\r\\n,Customer Name,,,ATT,,,,,,,Enter Customer Name,,,,,,,\\r\\n,,,,,,,,,,,,,,,,,,\\r\\n,Cloud Identifier,,,1537039.0,,,,,,,Enter the Subscription ID for the Oracle Cloud Machine Control Plane subscription (this is a 7-9 digit number).,,,,,,,\\r\\n,,,,,,,,,,,,,,,,,,\\r\\n,Country,,,United States of America,,,,,,US,\"Enter the country this Oracle Cloud deployment will be part of. e.g. \"\"Australia\"\",\"\"France\"\" (ISO 3166).\",,,,,,,\\r\\n,,,,,,,,,,,,,,,,,,\\r\\n,Control Plane Identifier,,,2.0,,,,,,,\"Enter the Control Plane identifier for the deployment, this is 1 in most cases.\",,,,,,,\\r\\n,,,,,,,,,,,,,,,,,,\\r\\n,Domain ,,,<oracle specified>,,,s1537039.oraclecloudatcustomer.com,,,,\"Oracle will deploy the Oracle Cloud utilizing an Oracle owned domain. As part of this installation, valid CA SSL certificates will be installed.\",,,,,,,\\r\\n,,,,,,,,,,,,,,,,,,\\r\\n,DNS Subdomain,,,us2.ocm.s1537039.oraclecloudatcustomer.com,,,,,,,This is the DNS domain used for Oracle Cloud Portal and API URLs provided by OCM Control Plane.,,,,,,,\\r\\n,,,,,,,,,,,,,,,,,,\\r\\n,DNS Server,,,130.6.20.7,,130.6.20.23,,,,*,Provide minimum 2 IP addresses for DNS Servers. The name resolution for DNS subdomain us2.ocm.s1537039.oraclecloudatcustomer.com must be delegated to the Oracle Cloud Machine Control Plane DNS servers. The DNS servers have to be routable from the OCM ToR switches.,,,,,,,\\r\\n,,,,,,,,,,,,,,,,,,\\r\\n,NTP Server,,,100.104.15.254,,,,,,*,Provide minimum 2 IP addresses for NTP Servers (higher than stratum 7). The NTP servers have to be routable from the OCM OOB mgmt switch.,,,,,,,\\r\\n,,,,,,,,,,,,,,,,,,\\r\\n,,,SMTP server,smtp.it.att.com,,port,25.0,,,,Provide a SMTP server FQDN and port with optional security settings. The SMTP server has to be routable from the OCM ToR switches.,,,,,,,\\r\\n,,,,,,,,,,,,,,,,,,\\r\\n,,,SMTP security,NONE,,,,SMTP credential key,,,,,,,,,,\\r\\n,,,,,,,,,,,,,,,,,,\\r\\n,Cloud at Customer configuration,,,,,,,,,,,,,,,,,\\r\\n,,,,,,,,,,,,,,,,,,\\r\\n,,,# of OCM racks including control plane,1.0,,,,,,,,,,,,,,\\r\\n,,,,,,,,,,,,,,,,,,\\r\\n,,,# of ExaCM racks,1.0,,,,,,,,,,,,,,\\r\\n,,,,,,,,,,,,,,,,,,\\r\\n,Client access,,,,,,,,,,Layer-3 Connectivity,,,,,,,\\r\\n,,,,,,,,,,,,,,,,,,\\r\\n,Client IP Pool,,,130.6.202.0,/,23.0,,,,,\"IP addresses to assign to Compute and PaaS instances. Since Cloud instances\\' Public IP will come from this subnet, customer needs to provide a subnet large enough for Compute and PaaS instance deployment  (Example: 10.1.1.0/23). An OCM Control Plane only configuration requires a /25. For IaaS and PaaS minimum configurations, a /23 is recommended. For more that 400 OCPU, (OCPUs x 2) + 128,  rounded up to the nearest subnet mask.\",,,,,,80 for control plane,\\r\\n,,,,,,,,,,,,,,,,,,\\r\\n,,,Port type on the upstream router(s),40Gbps,,,Port type: QSFP+  Cables type: MPO-MPO,,,,\"Select the port type on the client-side upstream router(s), 10Gbps (SFP+) or 40Gbps (QSFP+).\",,,,,,,\\r\\n,,,,,,,,,,,,,,,,,,\\r\\n,,,Number of ports on the upstream router(s),4.0,,,4 MPO-MPO cables shipped,,,,Provide the number of ports on the client-side upstream router(s) to connect to OCM ToR switches.,,,,,,,\\r\\n,,,,,,,,,,,,,,,,,,\\r\\n,Upstream router Port Config Type,,,No link aggregation,,,,,,,\"If link aggregation is not configured on the client-side upstream router(s) downlinks to OCM, select \"\"No Link aggregation\"\". If link aggregation is configured with 2 LAGs for each OCM rack, select \"\"2 Link Aggregation Groups\"\".\",,,,,,,\\r\\n,,,,,,,,,,,,,,,,,,\\r\\n,MTU (L3) set on upstream router ports,,,1500.0,,,,,,,\"MTU set on the ports on your upstream switch. We require a Layer 3 MTU, not Layer 2. The maximum MTU size on the ToR switches is 9202.\",,,,,,,\\r\\n,,,,,,,,,,,,,,,,,,\\r\\n,Client-side handoff netmask (CIDR notation),,,/30,,,,,,,Select the CIDR netmask for the client-side handoff subnets.,,,,,,,\\r\\n,,,,,,,,,,,,,,,,,,\\r\\n,Client-side handoff addressing,,,,,,IP on Cust router\\'s,,IP on OCM ToR\\'s,,\"Subnets for handoff networks configuration between Customer upstream router(s) and OCM ToR are required for each link (or group of links when link aggregation is configured). \\nProvide the CIDR for the handoff networks, the last octet of the IP assigned on the Customer upstream router(s) port (or port group) and the IP to assign on the paired OCM ToR port (or port group).\",,,,,,,\\r\\n,OCM ToR port/group,,,Handoff network,,,port/group (last octet),,port/group (last octet),,,,,,,,,\\r\\n,ToR1#50,,,130.6.205.28,/30,,29.0,,30.0,,,,,,,,,\\r\\n,ToR2#50,,,130.6.205.92,/30,,93.0,,94.0,,,,,,,,,\\r\\n,ToR1#51,,,130.6.205.32,/30,,33.0,,34.0,,,,,,,,,\\r\\n,ToR2#51,,,130.6.205.96,/30,,97.0,,98.0,,,,,,,,,\\r\\n,,,,x.x.x.x,/30,,y,,z,,,,,,,,,\\r\\n,,,,x.x.x.x,/30,,y,,z,,,,,,,,,\\r\\n,,,,x.x.x.x,/30,,y,,z,,,,,,,,,\\r\\n,,,,x.x.x.x,/30,,y,,z,,,,,,,,,\\r\\n,,,,x.x.x.x,/30,,y,,z,,,,,,,,,\\r\\n,,,,x.x.x.x,/30,,y,,z,,,,,,,,,\\r\\n,,,,x.x.x.x,/30,,y,,z,,,,,,,,,\\r\\n,,,,x.x.x.x,/30,,y,,z,,,,,,,,,\\r\\n,,,,x.x.x.x,/30,,y,,z,,,,,,,,,\\r\\n,,,,x.x.x.x,/30,,y,,z,,,,,,,,,\\r\\n,,,,x.x.x.x,/30,,y,,z,,,,,,,,,\\r\\n,,,,x.x.x.x,/30,,y,,z,,,,,,,,,\\r\\n,,,,,,,,,,,,,,,,,,\\r\\n,Oracle CloudOps Management access  (Control Plane rack),,,,,,,,,,Layer-3 Connectivity,,,,,,,\\r\\n,,,,,,,,,,,,,,,,,,\\r\\n,Management IP Pool,,,100.104.48.0,/,20.0,,,,,Management IP addresses for OASG to manage and monitor Oracle Cloud At Customer rack (CIDR /26 minimum is required).,,,,,,,\\r\\n,,,,,,,,,,,,,,,,,,\\r\\n,,,Port type on the upstream management router,RJ45,,,,,,,\"Select the port type on the management-side upstream router, RJ45 (copper) or SFP+ (fiber).\",,,,,,,\\r\\n,,,,,,,,,,,,,,,,,,\\r\\n,Number of ports on the upstream management router,,,1.0,,,,,,,\"Provide the number of ports on the management-side upstream router to connect to OCM OOB (1 is the default, 2 is only supported with SFP+ ports).\",,,,,,,\\r\\n,,,,,,,,,,,,,,,,,,\\r\\n,MTU (L3) set on upstream management router ports,,,1500.0,,,,,,,\"MTU set on the ports of the management-side upstream router. We require a Layer 3 MTU, not Layer 2. The maximum MTU size on the OOB switches is 9198.\",,,,,,,\\r\\n,,,,,,,,,,,,,,,,,,\\r\\n,Management-side handoff netmask (CIDR notation),,,/30,,,,,,,Select the CIDR netmask for the management-side handoff subnets.,,,,,,,\\r\\n,,,,,,,,,,,,,,,,,,\\r\\n,,,Management-side handoff addressing,,,,IP on Cust Mgmt router\\'s,,IP on OCM OOB\\'s,,\"Subnets for handoff network configuration between the management-side upstream router and OCM OOB are required for each link.\\nProvide the CIDR for the handoff networks, the last octet of the IP assigned on the management-side upstream router port and the IP to assign on the paired OCM OOB port.\",,,,,,,\\r\\n,OCM OOB port,,,Handoff network,,,port (last octet),,port (last octet),,,,,,,,,\\r\\n,OOB port 46,,,192.168.100.0,/30,,1.0,,2.0,,,,,,,,,\\r\\n,,,,x.x.x.x,/30,,y,,z,,,,,,,,,\\r\\n,,,,,,,,,,,,,,,,,,\\r\\n,Oracle Advanced Support Gateway,,,,,,,,,,,,,,,,,\\r\\n,,,,,,,,,,,,,,,,,,\\r\\n,,,,,,,,,,,,,,,,,,\\r\\n,Primary IP Address/Subnet,,,130.6.205.26,/,30.0,,,,,IP address and CIDR Subnet assigned to the OASG that will communicate with the Cloud Machine and the Internet (Example 1.2.3.4/24). The IP is from a DMZ VLAN that can route to any IP addresses from the Management IP pool.,,,,,,,\\r\\n,,,,,,,,,,,,,,,,,,\\r\\n,Primary Default Gateway,,,130.6.205.25,,,,,,,Default gateway for Primary Subnet (Example 1.2.3.1).,,,,,,,\\r\\n,,,,,,,,,,,,,,,,,,\\r\\n,ILOM IP Address,,,100.104.63.251,/,20.0,,,,,IP address and CIDR Subnet assigned to the OASG Lights Out Management interface for hardware monitoring of the physical system (Example 1.2.3.3/24).,,,,,,,\\r\\n,,,,,,,,,,,,,,,,,,\\r\\n,ILOM Default Gateway,,,100.104.48.1,,,,,,,Default gateway for ILOM interface (Example 1.2.3.1).,,,,,,,\\r\\n,,,,,,,,,,,,,,,,,,\\r\\n,Static Routes,,,NO Static Routes,,,,,,,\"If there are multiple gateways on the Primary Subnet and a different gateway should be used for the internal traffic as opposed to external traffic define the routes here using the following format <Network>/<CIDR> via <gateway>\\n(Example 10.10.16.0/20 via 10.10.10.254)\",,,,,,,\\r\\n,,,,,,,,,,,,,,,,,,\\r\\n,,,,,,,,,,,,,,,,,,\\r\\n,,,,,,,,,,,,,,,,,,\\r\\n,HTTPS Proxy IP Address,,,one.proxy.att.com,,,,,,,\"IP address of the Proxy server (and its Proxy Port, User Name, Password) if a proxy is required for the outbound https traffic to the Oracle URLs as defined in OASG Security Guide. \\n\\nLeave blank for any of the HTTPS Proxy information that is not required.\",,,,,,,\\r\\n,,,,,,,,,,,,,,,,,,\\r\\n,HTTPS Proxy Port,,,8080.0,,,,,,,,,,,,,,\\r\\n,,,,,,,,,,,,,,,,,,\\r\\n,HTTPS Proxy Username,,,,,,,,,,,,,,,,,\\r\\n,,,,,,,,,,,,,,,,,,\\r\\n,HTTPS Proxy Password,,,,,,,,,,,,,,,,,\\r\\n,,,,,,,,,,,,,,,,,,\\r\\n'),\n",
       " ('file:/Users/gverstra/Documents/PCMA/pcma-manual-config-master-3a24c3292530d2425a68e49b85c188cba8e5199a/spreadsheets/OCACS-1072.csv',\n",
       "  'Oracle Cloud Machine Platform Configuration Assistant,,,,,,,,,,,,,,,,, Version: 17.2.3-091117,\\r\\n,,,,,,,,,,,,,,,,,,\\r\\n,Customer Name,,,Telstra,,,,,,,Enter Customer Name,,,,,,,\\r\\n,,,,,,,,,,,,,,,,,,\\r\\n,Cloud Identifier,,,1583163.0,,,,,,,Enter the Subscription ID for the Oracle Cloud Machine Control Plane subscription (this is a 7-9 digit number).,,,,,,,\\r\\n,,,,,,,,,,,,,,,,,,\\r\\n,Country,,,Australia,,,,,,AU,\"Enter the country this Oracle Cloud deployment will be part of. e.g. \"\"Australia\"\",\"\"France\"\" (ISO 3166).\",,,,,,,\\r\\n,,,,,,,,,,,,,,,,,,\\r\\n,Control Plane Identifier,,,1.0,,,,,,,\"Enter the Control Plane identifier for the deployment, this is 1 in most cases.\",,,,,,,\\r\\n,,,,,,,,,,,,,,,,,,\\r\\n,Domain ,,,<oracle specified>,,,s1583163.oraclecloudatcustomer.com,,,,\"Oracle will deploy the Oracle Cloud utilizing an Oracle owned domain. As part of this installation, valid CA SSL certificates will be installed.\",,,,,,,\\r\\n,,,,,,,,,,,,,,,,,,\\r\\n,DNS Subdomain,,,au1.ocm.s1583163.oraclecloudatcustomer.com,,,,,,,This is the DNS domain used for Oracle Cloud Portal and API URLs provided by OCM Control Plane.,,,,,,,\\r\\n,,,,,,,,,,,,,,,,,,\\r\\n,DNS Server,,,144.136.201.10,,144.132.81.10,,,,*,Provide minimum 2 IP addresses for DNS Servers. The name resolution for DNS subdomain au1.ocm.s1583163.oraclecloudatcustomer.com must be delegated to the Oracle Cloud Machine Control Plane DNS servers. The DNS servers have to be routable from the OCM ToR switches.,,,,,,,\\r\\n,,,,,,,,,,,,,,,,,,\\r\\n,NTP Server,,,144.136.201.10,,144.132.81.10,,,,*,Provide minimum 2 IP addresses for NTP Servers (higher than stratum 7). The NTP servers have to be routable from the OCM OOB mgmt switch.,,,,,,,\\r\\n,,,,,,,,,,,,,,,,,,\\r\\n,,,SMTP server,10.97.217.210,,port,25.0,,,,Provide a SMTP server FQDN and port with optional security settings. The SMTP server has to be routable from the OCM ToR switches.,,,,,,,\\r\\n,,,,,,,,,,,,,,,,,,\\r\\n,,,SMTP security,NONE,,,,SMTP credential key,,,,,,,,,,\\r\\n,,,,,,,,,,,,,,,,,,\\r\\n,Cloud at Customer configuration,,,,,,,,,,,,,,,,,\\r\\n,,,,,,,,,,,,,,,,,,\\r\\n,,,# of OCM racks including control plane,1.0,,,,,,,,,,,,,,\\r\\n,,,,,,,,,,,,,,,,,,\\r\\n,,,# of ExaCM racks,1.0,,,,,,,,,,,,,,\\r\\n,,,,,,,,,,,,,,,,,,\\r\\n,Client access,,,,,,,,,,Layer-3 Connectivity,,,,,,,\\r\\n,,,,,,,,,,,,,,,,,,\\r\\n,Client IP Pool,,,10.13.34.0,/,23.0,,,,,\"IP addresses to assign to Compute and PaaS instances. Since Cloud instances\\' Public IP will come from this subnet, customer needs to provide a subnet large enough for Compute and PaaS instance deployment  (Example: 10.1.1.0/23). An OCM Control Plane only configuration requires a /25. For IaaS and PaaS minimum configurations, a /23 is recommended. For more that 400 OCPU, (OCPUs x 2) + 128,  rounded up to the nearest subnet mask.\",,,,,,80 for control plane,\\r\\n,,,,,,,,,,,,,,,,,,\\r\\n,,,Port type on the upstream router(s),40Gbps,,,Port type: QSFP+  Cables type: MPO-MPO,,,,\"Select the port type on the client-side upstream router(s), 10Gbps (SFP+) or 40Gbps (QSFP+).\",,,,,,,\\r\\n,,,,,,,,,,,,,,,,,,\\r\\n,,,Number of ports on the upstream router(s),4.0,,,4 MPO-MPO cables shipped,,,,Provide the number of ports on the client-side upstream router(s) to connect to OCM ToR switches.,,,,,,,\\r\\n,,,,,,,,,,,,,,,,,,\\r\\n,Upstream router Port Config Type,,,2 Link Aggregation Groups,,,,,,,\"If link aggregation is not configured on the client-side upstream router(s) downlinks to OCM, select \"\"No Link aggregation\"\". If link aggregation is configured with 2 LAGs for each OCM rack, select \"\"2 Link Aggregation Groups\"\".\",,,,,,,\\r\\n,,,,,,,,,,,,,,,,,,\\r\\n,MTU (L3) set on upstream router ports,,,9202.0,,,,,,,\"MTU set on the ports on your upstream switch. We require a Layer 3 MTU, not Layer 2. The maximum MTU size on the ToR switches is 9202.\",,,,,,,\\r\\n,,,,,,,,,,,,,,,,,,\\r\\n,Client-side handoff netmask (CIDR notation),,,/31,,,,,,,Select the CIDR netmask for the client-side handoff subnets.,,,,,,,\\r\\n,,,,,,,,,,,,,,,,,,\\r\\n,Client-side handoff addressing,,,,,,IP on Cust router\\'s,,IP on OCM ToR\\'s,,\"Subnets for handoff networks configuration between Customer upstream router(s) and OCM ToR are required for each link (or group of links when link aggregation is configured). \\nProvide the CIDR for the handoff networks, the last octet of the IP assigned on the Customer upstream router(s) port (or port group) and the IP to assign on the paired OCM ToR port (or port group).\",,,,,,,\\r\\n,OCM ToR port/group,,,Handoff network,,,port/group (last octet),,port/group (last octet),,,,,,,,,\\r\\n,Group #1,,,192.168.31.0,/31,,1.0,,0.0,,,,,,,,,\\r\\n,Group #2,,,192.168.31.2,/31,,3.0,,2.0,,,,,,,,,\\r\\n,,,,x.x.x.x,/31,,y,,z,,,,,,,,,\\r\\n,,,,x.x.x.x,/31,,y,,z,,,,,,,,,\\r\\n,,,,x.x.x.x,/31,,y,,z,,,,,,,,,\\r\\n,,,,x.x.x.x,/31,,y,,z,,,,,,,,,\\r\\n,,,,x.x.x.x,/31,,y,,z,,,,,,,,,\\r\\n,,,,x.x.x.x,/31,,y,,z,,,,,,,,,\\r\\n,,,,x.x.x.x,/31,,y,,z,,,,,,,,,\\r\\n,,,,x.x.x.x,/31,,y,,z,,,,,,,,,\\r\\n,,,,x.x.x.x,/31,,y,,z,,,,,,,,,\\r\\n,,,,x.x.x.x,/31,,y,,z,,,,,,,,,\\r\\n,,,,x.x.x.x,/31,,y,,z,,,,,,,,,\\r\\n,,,,x.x.x.x,/31,,y,,z,,,,,,,,,\\r\\n,,,,x.x.x.x,/31,,y,,z,,,,,,,,,\\r\\n,,,,x.x.x.x,/31,,y,,z,,,,,,,,,\\r\\n,,,,,,,,,,,,,,,,,,\\r\\n,Oracle CloudOps Management access  (Control Plane rack),,,,,,,,,,Layer-3 Connectivity,,,,,,,\\r\\n,,,,,,,,,,,,,,,,,,\\r\\n,Management IP Pool,,,10.13.43.0,/,26.0,,,,,Management IP addresses for OASG to manage and monitor Oracle Cloud At Customer rack (CIDR /26 minimum is required).,,,,,,,\\r\\n,,,,,,,,,,,,,,,,,,\\r\\n,,,Port type on the upstream management router,SFP+,,,,,,,\"Select the port type on the management-side upstream router, RJ45 (copper) or SFP+ (fiber).\",,,,,,,\\r\\n,,,,,,,,,,,,,,,,,,\\r\\n,Number of ports on the upstream management router,,,2.0,,,,,,,\"Provide the number of ports on the management-side upstream router to connect to OCM OOB (1 is the default, 2 is only supported with SFP+ ports).\",,,,,,,\\r\\n,,,,,,,,,,,,,,,,,,\\r\\n,MTU (L3) set on upstream management router ports,,,9198.0,,,,,,,\"MTU set on the ports of the management-side upstream router. We require a Layer 3 MTU, not Layer 2. The maximum MTU size on the OOB switches is 9198.\",,,,,,,\\r\\n,,,,,,,,,,,,,,,,,,\\r\\n,Management-side handoff netmask (CIDR notation),,,/31,,,,,,,Select the CIDR netmask for the management-side handoff subnets.,,,,,,,\\r\\n,,,,,,,,,,,,,,,,,,\\r\\n,,,Management-side handoff addressing,,,,IP on Cust Mgmt router\\'s,,IP on OCM OOB\\'s,,\"Subnets for handoff network configuration between the management-side upstream router and OCM OOB are required for each link.\\nProvide the CIDR for the handoff networks, the last octet of the IP assigned on the management-side upstream router port and the IP to assign on the paired OCM OOB port.\",,,,,,,\\r\\n,OCM OOB port,,,Handoff network,,,port (last octet),,port (last octet),,,,,,,,,\\r\\n,OOB port 49,,,192.168.31.4,/31,,5.0,,4.0,,,,,,,,,\\r\\n,OOB port 50,,,192.168.31.6,/31,,7.0,,6.0,,,,,,,,,\\r\\n,,,,,,,,,,,,,,,,,,\\r\\n,Oracle Advanced Support Gateway,,,,,,,,,,,,,,,,,\\r\\n,,,,,,,,,,,,,,,,,,\\r\\n,,,,,,,,,,,,,,,,,,\\r\\n,Primary IP Address/Subnet,,,10.75.4.76,/,24.0,,,,,IP address and CIDR Subnet assigned to the OASG that will communicate with the Cloud Machine and the Internet (Example 1.2.3.4/24). The IP is from a DMZ VLAN that can route to any IP addresses from the Management IP pool.,,,,,,,\\r\\n,,,,,,,,,,,,,,,,,,\\r\\n,Primary Default Gateway,,,10.75.4.6,,,,,,,Default gateway for Primary Subnet (Example 1.2.3.1).,,,,,,,\\r\\n,,,,,,,,,,,,,,,,,,\\r\\n,ILOM IP Address,,,10.75.4.89,/,24.0,,,,,IP address and CIDR Subnet assigned to the OASG Lights Out Management interface for hardware monitoring of the physical system (Example 1.2.3.3/24).,,,,,,,\\r\\n,,,,,,,,,,,,,,,,,,\\r\\n,ILOM Default Gateway,,,10.75.4.1,,,,,,,Default gateway for ILOM interface (Example 1.2.3.1).,,,,,,,\\r\\n,,,,,,,,,,,,,,,,,,\\r\\n,Static Routes,,,\"10.13.43.0/26 via 10.75.4.1\\n10.13.43.64/26 via 10.75.4.1\\n10.75.16.24/32 via 10.75.4.1\",,,,,,,\"If there are multiple gateways on the Primary Subnet and a different gateway should be used for the internal traffic as opposed to external traffic define the routes here using the following format <Network>/<CIDR> via <gateway>\\n(Example 10.10.16.0/20 via 10.10.10.254)\",,,,,,,\\r\\n,,,,,,,,,,,,,,,,,,\\r\\n,,,,,,,,,,,,,,,,,,\\r\\n,,,,,,,,,,,,,,,,,,\\r\\n,HTTPS Proxy IP Address,,,,,,,,,,\"IP address of the Proxy server (and its Proxy Port, User Name, Password) if a proxy is required for the outbound https traffic to the Oracle URLs as defined in OASG Security Guide. \\n\\nLeave blank for any of the HTTPS Proxy information that is not required.\",,,,,,,\\r\\n,,,,,,,,,,,,,,,,,,\\r\\n,HTTPS Proxy Port,,,,,,,,,,,,,,,,,\\r\\n,,,,,,,,,,,,,,,,,,\\r\\n,HTTPS Proxy Username,,,,,,,,,,,,,,,,,\\r\\n,,,,,,,,,,,,,,,,,,\\r\\n,HTTPS Proxy Password,,,,,,,,,,,,,,,,,\\r\\n,,,,,,,,,,,,,,,,,,\\r\\n')]"
      ]
     },
     "execution_count": 44,
     "metadata": {},
     "output_type": "execute_result"
    }
   ],
   "source": [
    "pcmas = sc.wholeTextFiles(pcma_directory + \"/*.csv\")\n",
    "pcmas.take(5)"
   ]
  },
  {
   "cell_type": "code",
   "execution_count": null,
   "metadata": {
    "scrolled": true
   },
   "outputs": [],
   "source": [
    "pcmas = sc.wholeTextFiles(pcma_directory + \"/OCACS-2489.csv\")\n",
    "pcmas.take(5)"
   ]
  },
  {
   "cell_type": "markdown",
   "metadata": {},
   "source": [
    "## Filter data and load it into RDD filteredpcmas"
   ]
  },
  {
   "cell_type": "code",
   "execution_count": 45,
   "metadata": {},
   "outputs": [
    {
     "data": {
      "text/plain": [
       "[('OCACS-1026',\n",
       "  '17.2.3-091117',\n",
       "  'Beijing Navinfo Co Ltd ',\n",
       "  1,\n",
       "  0,\n",
       "  '10Gbps',\n",
       "  16,\n",
       "  'No link aggregation',\n",
       "  -1,\n",
       "  ''),\n",
       " ('OCACS-1057',\n",
       "  '17.2.3-091117',\n",
       "  'AI Inversiones Palo Alto II S.A.C.',\n",
       "  1,\n",
       "  0,\n",
       "  '10Gbps',\n",
       "  8,\n",
       "  '2 Link Aggregation Groups',\n",
       "  -1,\n",
       "  '')]"
      ]
     },
     "execution_count": 45,
     "metadata": {},
     "output_type": "execute_result"
    }
   ],
   "source": [
    "def extractInfoFromPCMAcontent(pcma):\n",
    "    # search JIRA\n",
    "    x = re.search(r\"file:/(.*)/(.*).csv\", pcma[0])\n",
    "    if x != None:\n",
    "        jira = x[2]\n",
    "    else:\n",
    "        jira = ''\n",
    "    # search Version\n",
    "    x = re.search(r\"(V|v)ersion: ([\\d.\\-]+),\", pcma[1])\n",
    "    if x != None:\n",
    "        pcmaversion = x[2]\n",
    "    else:\n",
    "        x = re.search(r\"[,+]Release: ([\\d.\\-]+),\", pcma[1])\n",
    "        if x != None:\n",
    "            pcmaversion = x[1]\n",
    "        else:\n",
    "            pcmaversion = ''\n",
    "    # search Customer Name\n",
    "    x = re.search(r\",Customer Name,,,(.*?),,,,,,,\", pcma[1])\n",
    "    if x != None:\n",
    "        customername = x[1]\n",
    "    else:\n",
    "        x = re.search(r\",Customer Name,(.*?),,,,,,,\", pcma[1])\n",
    "        if x != None:\n",
    "            customername = x[1]\n",
    "        else:\n",
    "            customername = ''\n",
    "    # search Number of OCC racks\n",
    "    x = re.search(r\"[,+]# of (OCM|OCC) racks including control plane,(\\d+)\", pcma[1])\n",
    "    if x != None:\n",
    "        numoccracks = int(x[2])\n",
    "    else:\n",
    "        numoccracks = -1\n",
    "    # search Number of ExaCC racks\n",
    "    x = re.search(r\"[,+]# of (ExaCM|ExaCC) racks,(\\d+)\", pcma[1])\n",
    "    if x != None:\n",
    "        numexaccracks = int(x[2])\n",
    "    else:\n",
    "        numexaccracks = -1\n",
    "    # search Port type on upstream router\n",
    "    x = re.search(r\"[,+]Port type on the upstream router\\(s\\),(.*?),,,Port type:\", pcma[1])\n",
    "    if x != None:\n",
    "        upstreamporttype = x[1]\n",
    "    else:\n",
    "        #,,,Port speed on the upstream switch/router(s),10Gbps,Port type: \n",
    "        x = re.search(r\"[,+]Port speed on the upstream switch\\/router\\(s\\),(.*?),Port type:\", pcma[1])\n",
    "        if x != None:\n",
    "            upstreamporttype = x[1]\n",
    "        else:\n",
    "            upstreamporttype = \"\"\n",
    "    # search Number of ports on the upstream router\n",
    "    x = re.search(r\"[,+](Number of|Total) ports (on|connected to) the upstream (switch/)?router\\(s\\),(\\d+)\", pcma[1])\n",
    "    if x != None:\n",
    "        numupstreamports = int(x[4])\n",
    "    else:\n",
    "        numupstreamports = 0\n",
    "    # search Port Channeling type\n",
    "    x = re.search(r\",Upstream router Port Config Type,,,(.*),,,,,,,\\\"If link\", pcma[1])\n",
    "    if x != None:\n",
    "        portchanneling = x[1]\n",
    "    else:\n",
    "        x = re.search(r\",Router pair #,Label,Port (c|C)hanneling,MTU,Target networks,Customer-side BGP ASN,BGP keepalive/holdtime([,]+?)\\r\\n,1,(.*?),(.*?),\", pcma[1])\n",
    "        if x != None:\n",
    "            portchanneling = x[4]\n",
    "        else:\n",
    "            x = re.search(r\",Router pair #,Label,Port (c|C)hanneling,MTU,Customer-side BGP ASN,BGP keepalive/holdtime([,]+?)\\r\\n,1,(.*?),(.*?),\", pcma[1])\n",
    "            if x != None:\n",
    "                portchanneling = x[4]\n",
    "            else:\n",
    "                portchanneling = \"\"\n",
    "    # search num Upstream router\n",
    "    x = re.search(r\"[,+]Total number of upstream router pairs,(\\d+).0[,+]\", pcma[1])\n",
    "    if x != None:\n",
    "        numrouters = int(x[1])\n",
    "    else:\n",
    "        numrouters = -1\n",
    "    # search routing protocol\n",
    "    x = re.search(r\"[,+]Routing protocol,(.*?)[,+]\", pcma[1])\n",
    "    if x != None:\n",
    "        routingprotocol = x[1]\n",
    "    else:\n",
    "        routingprotocol = \"\"\n",
    "    return (jira, \n",
    "            pcmaversion, \n",
    "            customername, \n",
    "            numoccracks, \n",
    "            numexaccracks, \n",
    "            upstreamporttype, \n",
    "            numupstreamports, \n",
    "            portchanneling, \n",
    "            numrouters, \n",
    "            routingprotocol\n",
    "           )\n",
    "\n",
    "filteredpcmas = pcmas.map(extractInfoFromPCMAcontent)\n",
    "filteredpcmas.take(2)"
   ]
  },
  {
   "cell_type": "markdown",
   "metadata": {},
   "source": [
    "## Cleanup data into RDD cleanpcmas"
   ]
  },
  {
   "cell_type": "code",
   "execution_count": 53,
   "metadata": {},
   "outputs": [
    {
     "data": {
      "text/plain": [
       "[('OCACS-1026',\n",
       "  '17.2.3-091117',\n",
       "  'Beijing Navinfo Co Ltd ',\n",
       "  1,\n",
       "  0,\n",
       "  '10Gbps',\n",
       "  16,\n",
       "  'No link aggregation',\n",
       "  -1,\n",
       "  'no choice')]"
      ]
     },
     "execution_count": 53,
     "metadata": {},
     "output_type": "execute_result"
    }
   ],
   "source": [
    "def cleanDataFromFilteredPCMA(pcma):\n",
    "    jira = pcma[0]\n",
    "    pcmaversion = pcma[1]\n",
    "    customername = pcma[2]\n",
    "    numoccracks = pcma[3]\n",
    "    numexaccracks = pcma[4]\n",
    "    upstreamporttype = pcma[5]\n",
    "    numupstreamports = pcma[6]\n",
    "    portchanneling = pcma[7]\n",
    "    numrouters = pcma[8]\n",
    "    routingprotocol = pcma[9]\n",
    "\n",
    "    if portchanneling == \"2 Link Aggregation Groups\":\n",
    "        portchanneling = \"Per-Chassis LAG\"\n",
    "    if portchanneling == \"cross-chassis LAG\":\n",
    "        portchanneling = \"Multi-Chassis LAG\"\n",
    "    if routingprotocol == \"\":\n",
    "        routingprotocol = \"no choice\"\n",
    "    if numexaccracks == -1:\n",
    "        numexaccracks = 0\n",
    "    return (jira, \n",
    "            pcmaversion, \n",
    "            customername, \n",
    "            numoccracks, \n",
    "            numexaccracks, \n",
    "            upstreamporttype, \n",
    "            numupstreamports, \n",
    "            portchanneling, \n",
    "            numrouters, \n",
    "            routingprotocol\n",
    "           )\n",
    "\n",
    "cleanpcmas = filteredpcmas.map(cleanDataFromFilteredPCMA)\n",
    "cleanpcmas.take(1)"
   ]
  },
  {
   "cell_type": "markdown",
   "metadata": {},
   "source": [
    "## Reduce from the RDD"
   ]
  },
  {
   "cell_type": "markdown",
   "metadata": {},
   "source": [
    "### count PCMA by version"
   ]
  },
  {
   "cell_type": "code",
   "execution_count": 47,
   "metadata": {},
   "outputs": [
    {
     "data": {
      "text/html": [
       "<div>\n",
       "<style scoped>\n",
       "    .dataframe tbody tr th:only-of-type {\n",
       "        vertical-align: middle;\n",
       "    }\n",
       "\n",
       "    .dataframe tbody tr th {\n",
       "        vertical-align: top;\n",
       "    }\n",
       "\n",
       "    .dataframe thead th {\n",
       "        text-align: right;\n",
       "    }\n",
       "</style>\n",
       "<table border=\"1\" class=\"dataframe\">\n",
       "  <thead>\n",
       "    <tr style=\"text-align: right;\">\n",
       "      <th></th>\n",
       "      <th>pcmaversion</th>\n",
       "      <th>count</th>\n",
       "    </tr>\n",
       "  </thead>\n",
       "  <tbody>\n",
       "    <tr>\n",
       "      <th>0</th>\n",
       "      <td>17.2.3-091117</td>\n",
       "      <td>63</td>\n",
       "    </tr>\n",
       "    <tr>\n",
       "      <th>1</th>\n",
       "      <td>17.4.2-121817</td>\n",
       "      <td>1</td>\n",
       "    </tr>\n",
       "    <tr>\n",
       "      <th>2</th>\n",
       "      <td>17.2.3-081017</td>\n",
       "      <td>30</td>\n",
       "    </tr>\n",
       "    <tr>\n",
       "      <th>3</th>\n",
       "      <td>17.4.2-011818</td>\n",
       "      <td>18</td>\n",
       "    </tr>\n",
       "    <tr>\n",
       "      <th>4</th>\n",
       "      <td>17.4.2-121217</td>\n",
       "      <td>5</td>\n",
       "    </tr>\n",
       "    <tr>\n",
       "      <th>5</th>\n",
       "      <td>17.4.2-010818</td>\n",
       "      <td>5</td>\n",
       "    </tr>\n",
       "    <tr>\n",
       "      <th>6</th>\n",
       "      <td>17.4.2-020118</td>\n",
       "      <td>34</td>\n",
       "    </tr>\n",
       "    <tr>\n",
       "      <th>7</th>\n",
       "      <td>20180322</td>\n",
       "      <td>29</td>\n",
       "    </tr>\n",
       "    <tr>\n",
       "      <th>8</th>\n",
       "      <td>20180321</td>\n",
       "      <td>7</td>\n",
       "    </tr>\n",
       "  </tbody>\n",
       "</table>\n",
       "</div>"
      ],
      "text/plain": [
       "     pcmaversion  count\n",
       "0  17.2.3-091117     63\n",
       "1  17.4.2-121817      1\n",
       "2  17.2.3-081017     30\n",
       "3  17.4.2-011818     18\n",
       "4  17.4.2-121217      5\n",
       "5  17.4.2-010818      5\n",
       "6  17.4.2-020118     34\n",
       "7       20180322     29\n",
       "8       20180321      7"
      ]
     },
     "execution_count": 47,
     "metadata": {},
     "output_type": "execute_result"
    }
   ],
   "source": [
    "d = cleanpcmas.map(lambda x : (x[1], list(x[:1]) + list(x[2:]))).countByKey()\n",
    "pd.DataFrame(list(d.items()), columns=['pcmaversion', 'count'])"
   ]
  },
  {
   "cell_type": "markdown",
   "metadata": {},
   "source": [
    "### Count PCMA by Upstream port type"
   ]
  },
  {
   "cell_type": "code",
   "execution_count": 15,
   "metadata": {},
   "outputs": [
    {
     "data": {
      "text/html": [
       "<div>\n",
       "<style scoped>\n",
       "    .dataframe tbody tr th:only-of-type {\n",
       "        vertical-align: middle;\n",
       "    }\n",
       "\n",
       "    .dataframe tbody tr th {\n",
       "        vertical-align: top;\n",
       "    }\n",
       "\n",
       "    .dataframe thead th {\n",
       "        text-align: right;\n",
       "    }\n",
       "</style>\n",
       "<table border=\"1\" class=\"dataframe\">\n",
       "  <thead>\n",
       "    <tr style=\"text-align: right;\">\n",
       "      <th></th>\n",
       "      <th>upstreamporttype</th>\n",
       "      <th>count</th>\n",
       "    </tr>\n",
       "  </thead>\n",
       "  <tbody>\n",
       "    <tr>\n",
       "      <th>0</th>\n",
       "      <td>10Gbps</td>\n",
       "      <td>159</td>\n",
       "    </tr>\n",
       "    <tr>\n",
       "      <th>1</th>\n",
       "      <td>40Gbps</td>\n",
       "      <td>33</td>\n",
       "    </tr>\n",
       "  </tbody>\n",
       "</table>\n",
       "</div>"
      ],
      "text/plain": [
       "  upstreamporttype  count\n",
       "0           10Gbps    159\n",
       "1           40Gbps     33"
      ]
     },
     "execution_count": 15,
     "metadata": {},
     "output_type": "execute_result"
    }
   ],
   "source": [
    "d = cleanpcmas.map(lambda x : (x[5], list(x[:5]) + list(x[6:]))).countByKey()\n",
    "pd.DataFrame(list(d.items()), columns=['upstreamporttype', 'count'])"
   ]
  },
  {
   "cell_type": "markdown",
   "metadata": {},
   "source": [
    "### Count PCMA by port channeling type"
   ]
  },
  {
   "cell_type": "code",
   "execution_count": 8,
   "metadata": {},
   "outputs": [
    {
     "data": {
      "text/html": [
       "<div>\n",
       "<style scoped>\n",
       "    .dataframe tbody tr th:only-of-type {\n",
       "        vertical-align: middle;\n",
       "    }\n",
       "\n",
       "    .dataframe tbody tr th {\n",
       "        vertical-align: top;\n",
       "    }\n",
       "\n",
       "    .dataframe thead th {\n",
       "        text-align: right;\n",
       "    }\n",
       "</style>\n",
       "<table border=\"1\" class=\"dataframe\">\n",
       "  <thead>\n",
       "    <tr style=\"text-align: right;\">\n",
       "      <th></th>\n",
       "      <th>portchannelingtype</th>\n",
       "      <th>count</th>\n",
       "    </tr>\n",
       "  </thead>\n",
       "  <tbody>\n",
       "    <tr>\n",
       "      <th>0</th>\n",
       "      <td>No link aggregation</td>\n",
       "      <td>72</td>\n",
       "    </tr>\n",
       "    <tr>\n",
       "      <th>1</th>\n",
       "      <td>Per-Chassis LAG</td>\n",
       "      <td>74</td>\n",
       "    </tr>\n",
       "    <tr>\n",
       "      <th>2</th>\n",
       "      <td>Multi-Chassis LAG</td>\n",
       "      <td>46</td>\n",
       "    </tr>\n",
       "  </tbody>\n",
       "</table>\n",
       "</div>"
      ],
      "text/plain": [
       "    portchannelingtype  count\n",
       "0  No link aggregation     72\n",
       "1      Per-Chassis LAG     74\n",
       "2    Multi-Chassis LAG     46"
      ]
     },
     "execution_count": 8,
     "metadata": {},
     "output_type": "execute_result"
    }
   ],
   "source": [
    "d = cleanpcmas.map(lambda x : (x[7], list(x[:7]) + list(x[8:]))).countByKey()\n",
    "pd.DataFrame(list(d.items()), columns=['portchannelingtype', 'count'])"
   ]
  },
  {
   "cell_type": "markdown",
   "metadata": {},
   "source": [
    "## Reduce from a Dataframe"
   ]
  },
  {
   "cell_type": "markdown",
   "metadata": {},
   "source": [
    "### Create a dataframe out of RDD filteredpcmas"
   ]
  },
  {
   "cell_type": "code",
   "execution_count": 54,
   "metadata": {},
   "outputs": [
    {
     "data": {
      "text/plain": [
       "192"
      ]
     },
     "execution_count": 54,
     "metadata": {},
     "output_type": "execute_result"
    }
   ],
   "source": [
    "schema = [\n",
    "    ('jira', typ.StringType()),\n",
    "    ('pcmaversion', typ.StringType()),\n",
    "    ('customername', typ.StringType()),\n",
    "    ('numoccracks', typ.IntegerType()),\n",
    "    ('numexaccracks', typ.IntegerType()),\n",
    "    ('upstreamporttype', typ.StringType()),\n",
    "    ('numupstreamports', typ.IntegerType()),\n",
    "    ('portchanneling', typ.StringType()),\n",
    "    ('numrouters', typ.IntegerType()), \n",
    "    ('routingprotocol', typ.StringType())\n",
    "]\n",
    "schema = typ.StructType([typ.StructField(e[0],e[1],True) for e in schema])\n",
    "\n",
    "pcmadf = spark.createDataFrame(cleanpcmas, schema)\n",
    "pcmadf.createOrReplaceTempView(\"pcmas\")\n",
    "pcmadf.count()"
   ]
  },
  {
   "cell_type": "markdown",
   "metadata": {},
   "source": [
    "### Count PCMA by version"
   ]
  },
  {
   "cell_type": "code",
   "execution_count": 18,
   "metadata": {},
   "outputs": [
    {
     "data": {
      "text/html": [
       "<div>\n",
       "<style scoped>\n",
       "    .dataframe tbody tr th:only-of-type {\n",
       "        vertical-align: middle;\n",
       "    }\n",
       "\n",
       "    .dataframe tbody tr th {\n",
       "        vertical-align: top;\n",
       "    }\n",
       "\n",
       "    .dataframe thead th {\n",
       "        text-align: right;\n",
       "    }\n",
       "</style>\n",
       "<table border=\"1\" class=\"dataframe\">\n",
       "  <thead>\n",
       "    <tr style=\"text-align: right;\">\n",
       "      <th></th>\n",
       "      <th>pcmaversion</th>\n",
       "      <th>count</th>\n",
       "    </tr>\n",
       "  </thead>\n",
       "  <tbody>\n",
       "    <tr>\n",
       "      <th>0</th>\n",
       "      <td>20180322</td>\n",
       "      <td>29</td>\n",
       "    </tr>\n",
       "    <tr>\n",
       "      <th>1</th>\n",
       "      <td>17.4.2-010818</td>\n",
       "      <td>5</td>\n",
       "    </tr>\n",
       "    <tr>\n",
       "      <th>2</th>\n",
       "      <td>17.2.3-091117</td>\n",
       "      <td>63</td>\n",
       "    </tr>\n",
       "    <tr>\n",
       "      <th>3</th>\n",
       "      <td>17.4.2-121817</td>\n",
       "      <td>1</td>\n",
       "    </tr>\n",
       "    <tr>\n",
       "      <th>4</th>\n",
       "      <td>17.4.2-121217</td>\n",
       "      <td>5</td>\n",
       "    </tr>\n",
       "    <tr>\n",
       "      <th>5</th>\n",
       "      <td>17.2.3-081017</td>\n",
       "      <td>30</td>\n",
       "    </tr>\n",
       "    <tr>\n",
       "      <th>6</th>\n",
       "      <td>17.4.2-011818</td>\n",
       "      <td>18</td>\n",
       "    </tr>\n",
       "    <tr>\n",
       "      <th>7</th>\n",
       "      <td>20180321</td>\n",
       "      <td>7</td>\n",
       "    </tr>\n",
       "    <tr>\n",
       "      <th>8</th>\n",
       "      <td>17.4.2-020118</td>\n",
       "      <td>34</td>\n",
       "    </tr>\n",
       "  </tbody>\n",
       "</table>\n",
       "</div>"
      ],
      "text/plain": [
       "     pcmaversion  count\n",
       "0       20180322     29\n",
       "1  17.4.2-010818      5\n",
       "2  17.2.3-091117     63\n",
       "3  17.4.2-121817      1\n",
       "4  17.4.2-121217      5\n",
       "5  17.2.3-081017     30\n",
       "6  17.4.2-011818     18\n",
       "7       20180321      7\n",
       "8  17.4.2-020118     34"
      ]
     },
     "execution_count": 18,
     "metadata": {},
     "output_type": "execute_result"
    },
    {
     "data": {
      "image/png": "[encoded data removed]",
      "text/plain": [
       "<Figure size 432x288 with 1 Axes>"
      ]
     },
     "metadata": {},
     "output_type": "display_data"
    }
   ],
   "source": [
    "pdf = spark.sql(\"select pcmaversion,count(*) as count from pcmas group by pcmaversion\").toPandas()\n",
    "pdf.plot(kind='bar',x='pcmaversion')\n",
    "pdf"
   ]
  },
  {
   "cell_type": "markdown",
   "metadata": {},
   "source": [
    "### Count PCMA by Upstream port type"
   ]
  },
  {
   "cell_type": "code",
   "execution_count": 19,
   "metadata": {},
   "outputs": [
    {
     "data": {
      "text/html": [
       "<div>\n",
       "<style scoped>\n",
       "    .dataframe tbody tr th:only-of-type {\n",
       "        vertical-align: middle;\n",
       "    }\n",
       "\n",
       "    .dataframe tbody tr th {\n",
       "        vertical-align: top;\n",
       "    }\n",
       "\n",
       "    .dataframe thead th {\n",
       "        text-align: right;\n",
       "    }\n",
       "</style>\n",
       "<table border=\"1\" class=\"dataframe\">\n",
       "  <thead>\n",
       "    <tr style=\"text-align: right;\">\n",
       "      <th></th>\n",
       "      <th>upstreamporttype</th>\n",
       "      <th>count</th>\n",
       "    </tr>\n",
       "  </thead>\n",
       "  <tbody>\n",
       "    <tr>\n",
       "      <th>0</th>\n",
       "      <td>10Gbps</td>\n",
       "      <td>159</td>\n",
       "    </tr>\n",
       "    <tr>\n",
       "      <th>1</th>\n",
       "      <td>40Gbps</td>\n",
       "      <td>33</td>\n",
       "    </tr>\n",
       "  </tbody>\n",
       "</table>\n",
       "</div>"
      ],
      "text/plain": [
       "  upstreamporttype  count\n",
       "0           10Gbps    159\n",
       "1           40Gbps     33"
      ]
     },
     "execution_count": 19,
     "metadata": {},
     "output_type": "execute_result"
    },
    {
     "data": {
      "image/png": "[encoded data removed]",
      "text/plain": [
       "<Figure size 432x288 with 1 Axes>"
      ]
     },
     "metadata": {},
     "output_type": "display_data"
    }
   ],
   "source": [
    "pdf = spark.sql(\"select upstreamporttype, count(*) as count from pcmas group by upstreamporttype\").toPandas()\n",
    "ax1 = plt.subplot(121, aspect='equal')\n",
    "pdf.plot(kind='pie', y = 'count', ax=ax1, autopct='%1.1f%%', startangle=90, shadow=False, labels=pdf['upstreamporttype'], legend = False, fontsize=14)\n",
    "pdf"
   ]
  },
  {
   "cell_type": "markdown",
   "metadata": {},
   "source": [
    "## count by port channeling type"
   ]
  },
  {
   "cell_type": "code",
   "execution_count": 20,
   "metadata": {},
   "outputs": [
    {
     "data": {
      "text/html": [
       "<div>\n",
       "<style scoped>\n",
       "    .dataframe tbody tr th:only-of-type {\n",
       "        vertical-align: middle;\n",
       "    }\n",
       "\n",
       "    .dataframe tbody tr th {\n",
       "        vertical-align: top;\n",
       "    }\n",
       "\n",
       "    .dataframe thead th {\n",
       "        text-align: right;\n",
       "    }\n",
       "</style>\n",
       "<table border=\"1\" class=\"dataframe\">\n",
       "  <thead>\n",
       "    <tr style=\"text-align: right;\">\n",
       "      <th></th>\n",
       "      <th>portchanneling</th>\n",
       "      <th>count</th>\n",
       "    </tr>\n",
       "  </thead>\n",
       "  <tbody>\n",
       "    <tr>\n",
       "      <th>0</th>\n",
       "      <td>No link aggregation</td>\n",
       "      <td>72</td>\n",
       "    </tr>\n",
       "    <tr>\n",
       "      <th>1</th>\n",
       "      <td>Multi-Chassis LAG</td>\n",
       "      <td>46</td>\n",
       "    </tr>\n",
       "    <tr>\n",
       "      <th>2</th>\n",
       "      <td>Per-Chassis LAG</td>\n",
       "      <td>74</td>\n",
       "    </tr>\n",
       "  </tbody>\n",
       "</table>\n",
       "</div>"
      ],
      "text/plain": [
       "        portchanneling  count\n",
       "0  No link aggregation     72\n",
       "1    Multi-Chassis LAG     46\n",
       "2      Per-Chassis LAG     74"
      ]
     },
     "execution_count": 20,
     "metadata": {},
     "output_type": "execute_result"
    },
    {
     "data": {
      "image/png": "[encoded data removed]",
      "text/plain": [
       "<Figure size 432x288 with 1 Axes>"
      ]
     },
     "metadata": {},
     "output_type": "display_data"
    }
   ],
   "source": [
    "pdf = spark.sql(\"select portchanneling,count(*) as count from pcmas group by portchanneling\").toPandas()\n",
    "#pdf.plot(kind='bar',x='portchanneling')\n",
    "ax1 = plt.subplot(121, aspect='equal')\n",
    "pdf.plot(kind='pie', y = 'count', ax=ax1, autopct='%1.1f%%', startangle=90, shadow=False, labels=pdf['portchanneling'], legend = False, fontsize=14)\n",
    "pdf"
   ]
  },
  {
   "cell_type": "markdown",
   "metadata": {},
   "source": [
    "## count by Routing protocol"
   ]
  },
  {
   "cell_type": "code",
   "execution_count": 13,
   "metadata": {},
   "outputs": [
    {
     "data": {
      "text/html": [
       "<div>\n",
       "<style scoped>\n",
       "    .dataframe tbody tr th:only-of-type {\n",
       "        vertical-align: middle;\n",
       "    }\n",
       "\n",
       "    .dataframe tbody tr th {\n",
       "        vertical-align: top;\n",
       "    }\n",
       "\n",
       "    .dataframe thead th {\n",
       "        text-align: right;\n",
       "    }\n",
       "</style>\n",
       "<table border=\"1\" class=\"dataframe\">\n",
       "  <thead>\n",
       "    <tr style=\"text-align: right;\">\n",
       "      <th></th>\n",
       "      <th>routingprotocol</th>\n",
       "      <th>count</th>\n",
       "    </tr>\n",
       "  </thead>\n",
       "  <tbody>\n",
       "    <tr>\n",
       "      <th>0</th>\n",
       "      <td>no choice</td>\n",
       "      <td>93</td>\n",
       "    </tr>\n",
       "    <tr>\n",
       "      <th>1</th>\n",
       "      <td>BGP</td>\n",
       "      <td>6</td>\n",
       "    </tr>\n",
       "    <tr>\n",
       "      <th>2</th>\n",
       "      <td>static</td>\n",
       "      <td>93</td>\n",
       "    </tr>\n",
       "  </tbody>\n",
       "</table>\n",
       "</div>"
      ],
      "text/plain": [
       "  routingprotocol  count\n",
       "0       no choice     93\n",
       "1             BGP      6\n",
       "2          static     93"
      ]
     },
     "execution_count": 13,
     "metadata": {},
     "output_type": "execute_result"
    },
    {
     "data": {
      "image/png": "[encoded data removed]",
      "text/plain": [
       "<Figure size 432x288 with 1 Axes>"
      ]
     },
     "metadata": {},
     "output_type": "display_data"
    }
   ],
   "source": [
    "pdf = spark.sql(\"select routingprotocol,count(*) as count from pcmas group by routingprotocol\").toPandas()\n",
    "ax1 = plt.subplot(121, aspect='equal')\n",
    "pdf.plot(kind='pie', y = 'count', ax=ax1, autopct='%1.1f%%', startangle=90, shadow=False, labels=pdf['routingprotocol'], legend = False, fontsize=14)\n",
    "pdf"
   ]
  },
  {
   "cell_type": "markdown",
   "metadata": {},
   "source": [
    "## Count by number of upstream router (-1 means that there was no choice to select multiple upstream routers)"
   ]
  },
  {
   "cell_type": "code",
   "execution_count": 50,
   "metadata": {},
   "outputs": [
    {
     "data": {
      "text/html": [
       "<div>\n",
       "<style scoped>\n",
       "    .dataframe tbody tr th:only-of-type {\n",
       "        vertical-align: middle;\n",
       "    }\n",
       "\n",
       "    .dataframe tbody tr th {\n",
       "        vertical-align: top;\n",
       "    }\n",
       "\n",
       "    .dataframe thead th {\n",
       "        text-align: right;\n",
       "    }\n",
       "</style>\n",
       "<table border=\"1\" class=\"dataframe\">\n",
       "  <thead>\n",
       "    <tr style=\"text-align: right;\">\n",
       "      <th></th>\n",
       "      <th>numrouters</th>\n",
       "      <th>count</th>\n",
       "    </tr>\n",
       "  </thead>\n",
       "  <tbody>\n",
       "    <tr>\n",
       "      <th>0</th>\n",
       "      <td>-1</td>\n",
       "      <td>93</td>\n",
       "    </tr>\n",
       "    <tr>\n",
       "      <th>1</th>\n",
       "      <td>1</td>\n",
       "      <td>75</td>\n",
       "    </tr>\n",
       "    <tr>\n",
       "      <th>2</th>\n",
       "      <td>2</td>\n",
       "      <td>15</td>\n",
       "    </tr>\n",
       "    <tr>\n",
       "      <th>3</th>\n",
       "      <td>3</td>\n",
       "      <td>3</td>\n",
       "    </tr>\n",
       "    <tr>\n",
       "      <th>4</th>\n",
       "      <td>4</td>\n",
       "      <td>3</td>\n",
       "    </tr>\n",
       "    <tr>\n",
       "      <th>5</th>\n",
       "      <td>5</td>\n",
       "      <td>1</td>\n",
       "    </tr>\n",
       "    <tr>\n",
       "      <th>6</th>\n",
       "      <td>6</td>\n",
       "      <td>1</td>\n",
       "    </tr>\n",
       "    <tr>\n",
       "      <th>7</th>\n",
       "      <td>7</td>\n",
       "      <td>1</td>\n",
       "    </tr>\n",
       "  </tbody>\n",
       "</table>\n",
       "</div>"
      ],
      "text/plain": [
       "   numrouters  count\n",
       "0          -1     93\n",
       "1           1     75\n",
       "2           2     15\n",
       "3           3      3\n",
       "4           4      3\n",
       "5           5      1\n",
       "6           6      1\n",
       "7           7      1"
      ]
     },
     "execution_count": 50,
     "metadata": {},
     "output_type": "execute_result"
    },
    {
     "data": {
      "image/png": "[encoded data removed]",
      "text/plain": [
       "<Figure size 432x288 with 1 Axes>"
      ]
     },
     "metadata": {},
     "output_type": "display_data"
    }
   ],
   "source": [
    "pdf = spark.sql(\"select numrouters,count(*) as count from pcmas group by numrouters order by numrouters\").toPandas()\n",
    "ax1 = plt.subplot(121, aspect='equal')\n",
    "pdf.plot(kind='pie', y = 'count', ax=ax1, autopct='%1.1f%%', startangle=90, shadow=False, labels=pdf['numrouters'], legend = False, fontsize=14)\n",
    "pdf"
   ]
  },
  {
   "cell_type": "markdown",
   "metadata": {},
   "source": [
    "## count by number of ExaCC racks"
   ]
  },
  {
   "cell_type": "code",
   "execution_count": 21,
   "metadata": {},
   "outputs": [
    {
     "data": {
      "text/html": [
       "<div>\n",
       "<style scoped>\n",
       "    .dataframe tbody tr th:only-of-type {\n",
       "        vertical-align: middle;\n",
       "    }\n",
       "\n",
       "    .dataframe tbody tr th {\n",
       "        vertical-align: top;\n",
       "    }\n",
       "\n",
       "    .dataframe thead th {\n",
       "        text-align: right;\n",
       "    }\n",
       "</style>\n",
       "<table border=\"1\" class=\"dataframe\">\n",
       "  <thead>\n",
       "    <tr style=\"text-align: right;\">\n",
       "      <th></th>\n",
       "      <th>numexaccracks</th>\n",
       "      <th>count</th>\n",
       "    </tr>\n",
       "  </thead>\n",
       "  <tbody>\n",
       "    <tr>\n",
       "      <th>0</th>\n",
       "      <td>0</td>\n",
       "      <td>61</td>\n",
       "    </tr>\n",
       "    <tr>\n",
       "      <th>1</th>\n",
       "      <td>1</td>\n",
       "      <td>97</td>\n",
       "    </tr>\n",
       "    <tr>\n",
       "      <th>2</th>\n",
       "      <td>2</td>\n",
       "      <td>22</td>\n",
       "    </tr>\n",
       "    <tr>\n",
       "      <th>3</th>\n",
       "      <td>3</td>\n",
       "      <td>8</td>\n",
       "    </tr>\n",
       "    <tr>\n",
       "      <th>4</th>\n",
       "      <td>5</td>\n",
       "      <td>4</td>\n",
       "    </tr>\n",
       "  </tbody>\n",
       "</table>\n",
       "</div>"
      ],
      "text/plain": [
       "   numexaccracks  count\n",
       "0              0     61\n",
       "1              1     97\n",
       "2              2     22\n",
       "3              3      8\n",
       "4              5      4"
      ]
     },
     "execution_count": 21,
     "metadata": {},
     "output_type": "execute_result"
    },
    {
     "data": {
      "image/png": "[encoded data removed]",
      "text/plain": [
       "<Figure size 432x288 with 1 Axes>"
      ]
     },
     "metadata": {},
     "output_type": "display_data"
    }
   ],
   "source": [
    "pdf = spark.sql(\"select numexaccracks,count(*) as count from pcmas group by numexaccracks order by numexaccracks\").toPandas()\n",
    "pdf.plot(kind='bar',x='numexaccracks')\n",
    "pdf"
   ]
  }
 ],
 "metadata": {
  "kernelspec": {
   "display_name": "Python 3",
   "language": "python",
   "name": "python3"
  },
  "language_info": {
   "codemirror_mode": {
    "name": "ipython",
    "version": 3
   },
   "file_extension": ".py",
   "mimetype": "text/x-python",
   "name": "python",
   "nbconvert_exporter": "python",
   "pygments_lexer": "ipython3",
   "version": "3.6.4"
  }
 },
 "nbformat": 4,
 "nbformat_minor": 2
}
